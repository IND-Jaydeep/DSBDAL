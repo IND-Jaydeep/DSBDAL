{
 "cells": [
  {
   "cell_type": "code",
   "execution_count": 2,
   "id": "8d960959-8343-48e5-b2eb-5e78f5a3e958",
   "metadata": {},
   "outputs": [],
   "source": [
    "import pandas as pd\n",
    "import numpy as np\n",
    "df = pd.read_csv('Employee_Salary.csv')"
   ]
  },
  {
   "cell_type": "code",
   "execution_count": 4,
   "id": "b8fec490-eaf8-4a35-96ce-f32de534cab3",
   "metadata": {},
   "outputs": [
    {
     "name": "stdout",
     "output_type": "stream",
     "text": [
      "Information of Dataset:\n",
      " <bound method DataFrame.info of     ID  Experience  Age  Gender    Salary\n",
      "0    1         5.0   28  Female    250000\n",
      "1    2         1.0   21    Male     50000\n",
      "2    3         3.0   23  Female    170000\n",
      "3    4         2.0   22    Male     25000\n",
      "4    5         1.0   17    Male     10000\n",
      "5    6        25.0   62    Male   5001000\n",
      "6    7        19.0   54  Female    800000\n",
      "7    8         2.0   21  Female      9000\n",
      "8    9        10.0   36  Female     61500\n",
      "9   10        15.0   54  Female    650000\n",
      "10  11         4.0   26  Female    250000\n",
      "11  12         6.0   29    Male   1400000\n",
      "12  13        14.0   39    Male   6000050\n",
      "13  14         NaN   40    Male    220100\n",
      "14  15         2.0   23    Male      7500\n",
      "15  16         4.0   27     NaN     87000\n",
      "16  17        10.0   34  Female    930000\n",
      "17  18        15.0   54  Female   7900000\n",
      "18  19         2.0   21    Male     15000\n",
      "19  20        10.0   36    Male    330000\n",
      "20  21        15.0   54    Male   6570000\n",
      "21  22         4.0   26    Male     25000\n",
      "22  23         5.0   29    Male   6845000\n",
      "23  24         1.0   21  Female      6000\n",
      "24  25         4.0   23  Female      8900\n",
      "25  26         3.0   22  Female     20000\n",
      "26  27         1.0   18    Male      3000\n",
      "27  28        27.0   62  Female  10000000\n",
      "28  29        19.0   54  Female   5000000\n",
      "29  30         2.0   21  Female      6100\n",
      "30  31        10.0   34    Male     80000\n",
      "31  32        15.0   54    Male    900000\n",
      "32  33        20.0   55  Female   1540000\n",
      "33  34        19.0   53  Female   9300000\n",
      "34  35        16.0   49    Male   7600000>\n",
      "Shape of Dataset (row x column):  (35, 5)\n",
      "Columns Name:  Index(['ID', 'Experience', 'Age', 'Gender', 'Salary'], dtype='object')\n",
      "Total elements in dataset: 175\n",
      "Datatype of attributes (columns): ID              int64\n",
      "Experience    float64\n",
      "Age             int64\n",
      "Gender         object\n",
      "Salary          int64\n",
      "dtype: object\n",
      "First 5 rows:\n",
      "                  0      1       2      3      4\n",
      "ID               1      2       3      4      5\n",
      "Experience     5.0    1.0     3.0    2.0    1.0\n",
      "Age             28     21      23     22     17\n",
      "Gender      Female   Male  Female   Male   Male\n",
      "Salary      250000  50000  170000  25000  10000\n",
      "Last 5 rows:\n",
      "                30      31       32       33       34\n",
      "ID             31      32       33       34       35\n",
      "Experience   10.0    15.0     20.0     19.0     16.0\n",
      "Age            34      54       55       53       49\n",
      "Gender       Male    Male   Female   Female     Male\n",
      "Salary      80000  900000  1540000  9300000  7600000\n",
      "Any 5 rows:\n",
      "                15    26       12       22       5 \n",
      "ID             16    27       13       23        6\n",
      "Experience    4.0   1.0     14.0      5.0     25.0\n",
      "Age            27    18       39       29       62\n",
      "Gender        NaN  Male     Male     Male     Male\n",
      "Salary      87000  3000  6000050  6845000  5001000\n"
     ]
    }
   ],
   "source": [
    " print('Information of Dataset:\\n', df.info)\n",
    " print('Shape of Dataset (row x column): ', df.shape)\n",
    " print('Columns Name: ', df.columns)\n",
    " print('Total elements in dataset:', df.size)\n",
    " print('Datatype of attributes (columns):', df.dtypes)\n",
    " print('First 5 rows:\\n', df.head().T)\n",
    " print('Last 5 rows:\\n',df.tail().T)\n",
    " print('Any 5 rows:\\n',df.sample(5).T)"
   ]
  },
  {
   "cell_type": "code",
   "execution_count": 5,
   "id": "5a9cb65b-f7d3-46be-9ce3-f3b01552091a",
   "metadata": {},
   "outputs": [
    {
     "name": "stdout",
     "output_type": "stream",
     "text": [
      "Total Number of Null Values in Dataset: ID            0\n",
      "Experience    1\n",
      "Age           0\n",
      "Gender        1\n",
      "Salary        0\n",
      "dtype: int64\n"
     ]
    }
   ],
   "source": [
    "print('Total Number of Null Values in Dataset:', df.isna().sum())"
   ]
  },
  {
   "cell_type": "code",
   "execution_count": 6,
   "id": "33f0bf8f-ec5d-4c35-973d-7b73e940d26a",
   "metadata": {},
   "outputs": [
    {
     "name": "stdout",
     "output_type": "stream",
     "text": [
      "Total Number of Null Values in Dataset: ID            0\n",
      "Experience    0\n",
      "Age           0\n",
      "Gender        0\n",
      "Salary        0\n",
      "dtype: int64\n"
     ]
    },
    {
     "name": "stderr",
     "output_type": "stream",
     "text": [
      "C:\\TEMPS\\ipykernel_16184\\2175877412.py:1: FutureWarning: A value is trying to be set on a copy of a DataFrame or Series through chained assignment using an inplace method.\n",
      "The behavior will change in pandas 3.0. This inplace method will never work because the intermediate object on which we are setting values always behaves as a copy.\n",
      "\n",
      "For example, when doing 'df[col].method(value, inplace=True)', try using 'df.method({col: value}, inplace=True)' or df[col] = df[col].method(value) instead, to perform the operation inplace on the original object.\n",
      "\n",
      "\n",
      "  df['Gender'].fillna(df['Gender'].mode()[0], inplace=True)\n",
      "C:\\TEMPS\\ipykernel_16184\\2175877412.py:2: FutureWarning: A value is trying to be set on a copy of a DataFrame or Series through chained assignment using an inplace method.\n",
      "The behavior will change in pandas 3.0. This inplace method will never work because the intermediate object on which we are setting values always behaves as a copy.\n",
      "\n",
      "For example, when doing 'df[col].method(value, inplace=True)', try using 'df.method({col: value}, inplace=True)' or df[col] = df[col].method(value) instead, to perform the operation inplace on the original object.\n",
      "\n",
      "\n",
      "  df['Experience'].fillna(df['Experience'].mean(), inplace=True)\n"
     ]
    }
   ],
   "source": [
    " df['Gender'].fillna(df['Gender'].mode()[0], inplace=True)\n",
    " df['Experience'].fillna(df['Experience'].mean(), inplace=True)\n",
    " print('Total Number of Null Values in Dataset:', df.isna().sum())"
   ]
  },
  {
   "cell_type": "code",
   "execution_count": 7,
   "id": "18d3a728-38d1-40c2-93b4-15ce9956bdf5",
   "metadata": {},
   "outputs": [
    {
     "name": "stdout",
     "output_type": "stream",
     "text": [
      "Statistical information of Numerical Columns: \n",
      "               ID  Experience        Age        Salary\n",
      "count  35.000000   35.000000  35.000000  3.500000e+01\n",
      "mean   18.000000    9.147059  35.485714  2.059147e+06\n",
      "std    10.246951    7.546454  14.643552  3.170124e+06\n",
      "min     1.000000    1.000000  17.000000  3.000000e+03\n",
      "25%     9.500000    2.500000  22.500000  2.250000e+04\n",
      "50%    18.000000    6.000000  29.000000  2.500000e+05\n",
      "75%    26.500000   15.000000  53.500000  3.270000e+06\n",
      "max    35.000000   27.000000  62.000000  1.000000e+07\n"
     ]
    }
   ],
   "source": [
    "print('Statistical information of Numerical Columns: \\n',df.describe())"
   ]
  },
  {
   "cell_type": "code",
   "execution_count": 8,
   "id": "54b8c456-fa8e-403b-b861-266266c1379b",
   "metadata": {},
   "outputs": [
    {
     "name": "stdout",
     "output_type": "stream",
     "text": [
      "Groupwise Statistical Summary....\n",
      "        count       mean       std  min   25%  50%   75%   max\n",
      "Gender                                                        \n",
      "Female   18.0  10.111111  8.123234  1.0  3.25  7.5  18.0  27.0\n",
      "Male     17.0   8.126298  6.982320  1.0  2.00  6.0  14.0  25.0\n"
     ]
    }
   ],
   "source": [
    "print('Groupwise Statistical Summary....')\n",
    "print(df['Experience'].groupby(df['Gender']).describe())"
   ]
  },
  {
   "cell_type": "code",
   "execution_count": 9,
   "id": "2e7ead7e-953a-4912-85ed-d7b6cdf6207c",
   "metadata": {},
   "outputs": [
    {
     "name": "stdout",
     "output_type": "stream",
     "text": [
      "        count          mean           std     min      25%       50%  \\\n",
      "Gender                                                                 \n",
      "Female   18.0  2.054917e+06  3.450120e+06  6000.0  30375.0  250000.0   \n",
      "Male     17.0  2.063626e+06  2.950974e+06  3000.0  25000.0  220100.0   \n",
      "\n",
      "              75%         max  \n",
      "Gender                         \n",
      "Female  1387500.0  10000000.0  \n",
      "Male    5001000.0   7600000.0  \n"
     ]
    }
   ],
   "source": [
    "print(df['Salary'].groupby(df['Gender']).describe())"
   ]
  },
  {
   "cell_type": "code",
   "execution_count": 10,
   "id": "225dfa22-52b4-416d-b6ff-4ce433dd0b86",
   "metadata": {},
   "outputs": [
    {
     "name": "stdout",
     "output_type": "stream",
     "text": [
      "              0       1       2       3       4\n",
      "SL          5.1     4.9     4.7     4.6     5.0\n",
      "SW          3.5     3.0     3.2     3.1     3.6\n",
      "PL          1.4     1.4     1.3     1.5     1.4\n",
      "PW          0.2     0.2     0.2     0.2     0.2\n",
      "Species  Setosa  Setosa  Setosa  Setosa  Setosa\n"
     ]
    }
   ],
   "source": [
    "df = pd.read_csv('iris.csv')\n",
    "df = df.drop('Id', axis=1)\n",
    "df.columns = ('SL', 'SW', 'PL', 'PW', 'Species')\n",
    "print(df.head().T)"
   ]
  },
  {
   "cell_type": "code",
   "execution_count": 11,
   "id": "ae3dbd64-9330-43b0-aeba-ab977253c464",
   "metadata": {},
   "outputs": [
    {
     "name": "stdout",
     "output_type": "stream",
     "text": [
      "Statistical information of Numerical Columns: \n",
      "                SL          SW          PL          PW\n",
      "count  148.000000  150.000000  150.000000  148.000000\n",
      "mean     5.856757    3.054000    3.758667    1.197973\n",
      "std      0.825459    0.433594    1.764420    0.760278\n",
      "min      4.300000    2.000000    1.000000    0.100000\n",
      "25%      5.100000    2.800000    1.600000    0.300000\n",
      "50%      5.800000    3.000000    4.350000    1.300000\n",
      "75%      6.400000    3.300000    5.100000    1.800000\n",
      "max      7.900000    4.400000    6.900000    2.500000\n",
      "Groupwise Statistical Summary....\n",
      "\n",
      "-------------------------- Sepal Length -----------------------\n",
      "\n",
      "            count    mean       std  min    25%  50%  75%  max\n",
      "Species                                                       \n",
      "Setosa       48.0  5.0125  0.358261  4.3  4.800  5.0  5.2  5.8\n",
      "Versicolor   50.0  5.9360  0.516171  4.9  5.600  5.9  6.3  7.0\n",
      "Virginica    50.0  6.5880  0.635880  4.9  6.225  6.5  6.9  7.9\n",
      "\n",
      "-------------------------- Sepal Width -----------------------\n",
      "\n",
      "            count   mean       std  min    25%  50%    75%  max\n",
      "Species                                                        \n",
      "Setosa       50.0  3.418  0.381024  2.3  3.125  3.4  3.675  4.4\n",
      "Versicolor   50.0  2.770  0.313798  2.0  2.525  2.8  3.000  3.4\n",
      "Virginica    50.0  2.974  0.322497  2.2  2.800  3.0  3.175  3.8\n",
      "\n",
      "-------------------------- Petal Length -----------------------\n",
      "\n",
      "            count   mean       std  min  25%   50%    75%  max\n",
      "Species                                                       \n",
      "Setosa       50.0  1.464  0.173511  1.0  1.4  1.50  1.575  1.9\n",
      "Versicolor   50.0  4.260  0.469911  3.0  4.0  4.35  4.600  5.1\n",
      "Virginica    50.0  5.552  0.551895  4.5  5.1  5.55  5.875  6.9\n",
      "\n",
      "-------------------------- Petal Width -----------------------\n",
      "\n",
      "            count   mean       std  min    25%  50%    75%  max\n",
      "Species                                                        \n",
      "Setosa       50.0  3.418  0.381024  2.3  3.125  3.4  3.675  4.4\n",
      "Versicolor   50.0  2.770  0.313798  2.0  2.525  2.8  3.000  3.4\n",
      "Virginica    50.0  2.974  0.322497  2.2  2.800  3.0  3.175  3.8\n"
     ]
    }
   ],
   "source": [
    " print('Statistical information of Numerical Columns: \\n',df.describe())\n",
    " print('Groupwise Statistical Summary....')\n",
    " print('\\n-------------------------- Sepal Length -----------------------\\n')\n",
    " print(df['SL'].groupby(df['Species']).describe())\n",
    " print('\\n-------------------------- Sepal Width -----------------------\\n')\n",
    " print(df['SW'].groupby(df['Species']).describe())\n",
    " print('\\n-------------------------- Petal Length -----------------------\\n')\n",
    " print(df['PL'].groupby(df['Species']).describe())\n",
    " print('\\n-------------------------- Petal Width -----------------------\\n')\n",
    " print(df['SW'].groupby(df['Species']).describe())"
   ]
  },
  {
   "cell_type": "code",
   "execution_count": null,
   "id": "d86d15a6-411a-48f6-8585-80548aa7f678",
   "metadata": {},
   "outputs": [],
   "source": []
  }
 ],
 "metadata": {
  "kernelspec": {
   "display_name": "Python 3 (ipykernel)",
   "language": "python",
   "name": "python3"
  },
  "language_info": {
   "codemirror_mode": {
    "name": "ipython",
    "version": 3
   },
   "file_extension": ".py",
   "mimetype": "text/x-python",
   "name": "python",
   "nbconvert_exporter": "python",
   "pygments_lexer": "ipython3",
   "version": "3.12.0"
  }
 },
 "nbformat": 4,
 "nbformat_minor": 5
}
