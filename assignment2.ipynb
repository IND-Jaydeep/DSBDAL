{
 "cells": [
  {
   "cell_type": "code",
   "execution_count": 15,
   "id": "bc1d5c30-a315-48d4-9bdf-18bb5912b132",
   "metadata": {},
   "outputs": [],
   "source": [
    " import pandas as pd\n",
    " import numpy as np\n",
    " import matplotlib.pyplot as plt\n",
    " import seaborn as sns"
   ]
  },
  {
   "cell_type": "code",
   "execution_count": 16,
   "id": "2d046e5e-d2b1-49d0-93d2-992dc3b36d87",
   "metadata": {},
   "outputs": [],
   "source": [
    "def DetectOutlier(df,var):    \n",
    "# IQR method is used to deal with outliers\n",
    " Q1 = df[var].quantile(0.25)\n",
    " Q3 = df[var].quantile(0.75)\n",
    " IQR = Q3 - Q1\n",
    " high, low = Q3+1.5*IQR, Q1-1.5*IQR\n",
    " print(\"Highest allowed in variable:\", var, high)\n",
    " print(\"lowest allowed in variable:\", var, low)\n",
    " count = df[(df[var] > high) | (df[var] < low)][var].count()\n",
    " print('Total outliers in:',var,':',count)\n",
    " # new dataframe is created which contains outliers\n",
    " df1 = df[((df[var] < low) | (df[var] > high))]  #these are outliers\n",
    " print('Outliers : \\n', len(df1))\n",
    " print(df1.T)\n",
    " df = df[((df[var] >= low) & (df[var] <= high))]  #now filter out data which is not outlier\n",
    " return(df)"
   ]
  },
  {
   "cell_type": "code",
   "execution_count": 17,
   "id": "35e28580-7752-4c80-bafd-2c0f1f99b84b",
   "metadata": {},
   "outputs": [],
   "source": [
    "df = pd.read_csv('academic.csv')"
   ]
  },
  {
   "cell_type": "code",
   "execution_count": 18,
   "id": "5af13e62-ba4e-4ffb-8051-54b705dfb471",
   "metadata": {},
   "outputs": [
    {
     "name": "stdout",
     "output_type": "stream",
     "text": [
      "Information of Dataset:\n",
      " <bound method DataFrame.info of     gender NationalITy PlaceofBirth       StageID GradeID SectionID  \\\n",
      "0        M          KW       KuwaIT    lowerlevel    G-04         A   \n",
      "1        M          KW       KuwaIT    lowerlevel    G-04         A   \n",
      "2        M          KW       KuwaIT    lowerlevel    G-04         A   \n",
      "3        M          KW       KuwaIT    lowerlevel    G-04         A   \n",
      "4        M          KW       KuwaIT    lowerlevel    G-04         A   \n",
      "..     ...         ...          ...           ...     ...       ...   \n",
      "475      F      Jordan       Jordan  MiddleSchool    G-08         A   \n",
      "476      F      Jordan       Jordan  MiddleSchool    G-08         A   \n",
      "477      F      Jordan       Jordan  MiddleSchool    G-08         A   \n",
      "478      F      Jordan       Jordan  MiddleSchool    G-08         A   \n",
      "479      F      Jordan       Jordan  MiddleSchool    G-08         A   \n",
      "\n",
      "         Topic Semester Relation  raisedhands  VisITedResources  \\\n",
      "0           IT        F   Father         15.0                16   \n",
      "1           IT        F   Father          NaN                20   \n",
      "2           IT        F   Father         10.0                 7   \n",
      "3           IT        F   Father         30.0                25   \n",
      "4           IT        F   Father          0.0                50   \n",
      "..         ...      ...      ...          ...               ...   \n",
      "475  Chemistry        S   Father          5.0                 4   \n",
      "476    Geology        F   Father         50.0                77   \n",
      "477    Geology        S   Father         55.0                74   \n",
      "478    History        F   Father         30.0                17   \n",
      "479    History        S   Father         35.0                14   \n",
      "\n",
      "     AnnouncementsView  Discussion ParentAnsweringSurvey  \\\n",
      "0                    2          20                   Yes   \n",
      "1                    3          25                   Yes   \n",
      "2                    0          30                    No   \n",
      "3                    5          35                    No   \n",
      "4                   12          50                    No   \n",
      "..                 ...         ...                   ...   \n",
      "475                  5           8                    No   \n",
      "476                 14          28                    No   \n",
      "477                 25          29                    No   \n",
      "478                 14          57                    No   \n",
      "479                 23          62                    No   \n",
      "\n",
      "    ParentschoolSatisfaction StudentAbsenceDays Class  \n",
      "0                       Good            Under-7     M  \n",
      "1                       Good            Under-7     M  \n",
      "2                        Bad            Above-7     L  \n",
      "3                        Bad            Above-7     L  \n",
      "4                        Bad            Above-7     M  \n",
      "..                       ...                ...   ...  \n",
      "475                      Bad            Above-7     L  \n",
      "476                      Bad            Under-7     M  \n",
      "477                      Bad            Under-7     M  \n",
      "478                      Bad            Above-7     L  \n",
      "479                      Bad            Above-7     L  \n",
      "\n",
      "[480 rows x 17 columns]>\n",
      "Shape of Dataset (row x column):  (480, 17)\n",
      "Columns Name:  Index(['gender', 'NationalITy', 'PlaceofBirth', 'StageID', 'GradeID',\n",
      "       'SectionID', 'Topic', 'Semester', 'Relation', 'raisedhands',\n",
      "       'VisITedResources', 'AnnouncementsView', 'Discussion',\n",
      "       'ParentAnsweringSurvey', 'ParentschoolSatisfaction',\n",
      "       'StudentAbsenceDays', 'Class'],\n",
      "      dtype='object')\n",
      "Total elements in dataset: 8160\n",
      "Datatype of attributes (columns): gender                       object\n",
      "NationalITy                  object\n",
      "PlaceofBirth                 object\n",
      "StageID                      object\n",
      "GradeID                      object\n",
      "SectionID                    object\n",
      "Topic                        object\n",
      "Semester                     object\n",
      "Relation                     object\n",
      "raisedhands                 float64\n",
      "VisITedResources              int64\n",
      "AnnouncementsView             int64\n",
      "Discussion                    int64\n",
      "ParentAnsweringSurvey        object\n",
      "ParentschoolSatisfaction     object\n",
      "StudentAbsenceDays           object\n",
      "Class                        object\n",
      "dtype: object\n",
      "First 5 rows:\n",
      "                                    0           1           2           3  \\\n",
      "gender                             M           M           M           M   \n",
      "NationalITy                       KW          KW          KW          KW   \n",
      "PlaceofBirth                  KuwaIT      KuwaIT      KuwaIT      KuwaIT   \n",
      "StageID                   lowerlevel  lowerlevel  lowerlevel  lowerlevel   \n",
      "GradeID                         G-04        G-04        G-04        G-04   \n",
      "SectionID                          A           A           A           A   \n",
      "Topic                             IT          IT          IT          IT   \n",
      "Semester                           F           F           F           F   \n",
      "Relation                      Father      Father      Father      Father   \n",
      "raisedhands                     15.0         NaN        10.0        30.0   \n",
      "VisITedResources                  16          20           7          25   \n",
      "AnnouncementsView                  2           3           0           5   \n",
      "Discussion                        20          25          30          35   \n",
      "ParentAnsweringSurvey            Yes         Yes          No          No   \n",
      "ParentschoolSatisfaction        Good        Good         Bad         Bad   \n",
      "StudentAbsenceDays           Under-7     Under-7     Above-7     Above-7   \n",
      "Class                              M           M           L           L   \n",
      "\n",
      "                                   4  \n",
      "gender                             M  \n",
      "NationalITy                       KW  \n",
      "PlaceofBirth                  KuwaIT  \n",
      "StageID                   lowerlevel  \n",
      "GradeID                         G-04  \n",
      "SectionID                          A  \n",
      "Topic                             IT  \n",
      "Semester                           F  \n",
      "Relation                      Father  \n",
      "raisedhands                      0.0  \n",
      "VisITedResources                  50  \n",
      "AnnouncementsView                 12  \n",
      "Discussion                        50  \n",
      "ParentAnsweringSurvey             No  \n",
      "ParentschoolSatisfaction         Bad  \n",
      "StudentAbsenceDays           Above-7  \n",
      "Class                              M  \n",
      "Last 5 rows:\n",
      "                                    475           476           477  \\\n",
      "gender                               F             F             F   \n",
      "NationalITy                     Jordan        Jordan        Jordan   \n",
      "PlaceofBirth                    Jordan        Jordan        Jordan   \n",
      "StageID                   MiddleSchool  MiddleSchool  MiddleSchool   \n",
      "GradeID                           G-08          G-08          G-08   \n",
      "SectionID                            A             A             A   \n",
      "Topic                        Chemistry       Geology       Geology   \n",
      "Semester                             S             F             S   \n",
      "Relation                        Father        Father        Father   \n",
      "raisedhands                        5.0          50.0          55.0   \n",
      "VisITedResources                     4            77            74   \n",
      "AnnouncementsView                    5            14            25   \n",
      "Discussion                           8            28            29   \n",
      "ParentAnsweringSurvey               No            No            No   \n",
      "ParentschoolSatisfaction           Bad           Bad           Bad   \n",
      "StudentAbsenceDays             Above-7       Under-7       Under-7   \n",
      "Class                                L             M             M   \n",
      "\n",
      "                                   478           479  \n",
      "gender                               F             F  \n",
      "NationalITy                     Jordan        Jordan  \n",
      "PlaceofBirth                    Jordan        Jordan  \n",
      "StageID                   MiddleSchool  MiddleSchool  \n",
      "GradeID                           G-08          G-08  \n",
      "SectionID                            A             A  \n",
      "Topic                          History       History  \n",
      "Semester                             F             S  \n",
      "Relation                        Father        Father  \n",
      "raisedhands                       30.0          35.0  \n",
      "VisITedResources                    17            14  \n",
      "AnnouncementsView                   14            23  \n",
      "Discussion                          57            62  \n",
      "ParentAnsweringSurvey               No            No  \n",
      "ParentschoolSatisfaction           Bad           Bad  \n",
      "StudentAbsenceDays             Above-7       Above-7  \n",
      "Class                                L             L  \n",
      "Any 5 rows:\n",
      "                                    244           459           464  \\\n",
      "gender                               M             M             F   \n",
      "NationalITy                         KW          Iraq        Jordan   \n",
      "PlaceofBirth                    KuwaIT          Iraq        Jordan   \n",
      "StageID                   MiddleSchool  MiddleSchool  MiddleSchool   \n",
      "GradeID                           G-07          G-08          G-08   \n",
      "SectionID                            B             A             A   \n",
      "Topic                               IT     Chemistry     Chemistry   \n",
      "Semester                             S             S             F   \n",
      "Relation                           Mum        Father           Mum   \n",
      "raisedhands                       70.0          80.0          85.0   \n",
      "VisITedResources                    92            90            99   \n",
      "AnnouncementsView                   83            80            42   \n",
      "Discussion                          85            83            90   \n",
      "ParentAnsweringSurvey              Yes           Yes           Yes   \n",
      "ParentschoolSatisfaction           Bad          Good          Good   \n",
      "StudentAbsenceDays             Under-7       Under-7       Under-7   \n",
      "Class                                H             H             H   \n",
      "\n",
      "                                 156           135  \n",
      "gender                             F             F  \n",
      "NationalITy                    Tunis         Egypt  \n",
      "PlaceofBirth                     USA         Egypt  \n",
      "StageID                   HighSchool  MiddleSchool  \n",
      "GradeID                         G-11          G-07  \n",
      "SectionID                          B             A  \n",
      "Topic                         French         Quran  \n",
      "Semester                           S             S  \n",
      "Relation                      Father           Mum  \n",
      "raisedhands                     70.0          70.0  \n",
      "VisITedResources                  50            80  \n",
      "AnnouncementsView                 30            95  \n",
      "Discussion                        49            70  \n",
      "ParentAnsweringSurvey            Yes           Yes  \n",
      "ParentschoolSatisfaction        Good          Good  \n",
      "StudentAbsenceDays           Under-7       Under-7  \n",
      "Class                              M             H  \n"
     ]
    }
   ],
   "source": [
    " print('Information of Dataset:\\n', df.info)\n",
    " print('Shape of Dataset (row x column): ', df.shape)\n",
    " print('Columns Name: ', df.columns)\n",
    " print('Total elements in dataset:', df.size)\n",
    " print('Datatype of attributes (columns):', df.dtypes)\n",
    " print('First 5 rows:\\n', df.head().T)\n",
    " print('Last 5 rows:\\n',df.tail().T)\n",
    " print('Any 5 rows:\\n',df.sample(5).T)"
   ]
  },
  {
   "cell_type": "code",
   "execution_count": 19,
   "id": "974b2f8b-f4cd-4d3a-b746-080153c9b1a2",
   "metadata": {},
   "outputs": [
    {
     "name": "stdout",
     "output_type": "stream",
     "text": [
      "Statistical information of Numerical Columns: \n",
      "        raisedhands  VisITedResources  AnnouncementsView  Discussion\n",
      "count   478.000000        480.000000         480.000000  480.000000\n",
      "mean     46.939331         54.797917          37.918750   43.283333\n",
      "std      31.375699         33.080007          26.611244   27.637735\n",
      "min       0.000000          0.000000           0.000000    1.000000\n",
      "25%      15.000000         20.000000          14.000000   20.000000\n",
      "50%      50.000000         65.000000          33.000000   39.000000\n",
      "75%      75.000000         84.000000          58.000000   70.000000\n",
      "max     170.000000         99.000000          98.000000   99.000000\n"
     ]
    }
   ],
   "source": [
    "print('Statistical information of Numerical Columns: \\n',df.describe())\n"
   ]
  },
  {
   "cell_type": "code",
   "execution_count": 20,
   "id": "bc5f0614-b2da-4e51-b715-2f15b4551eaa",
   "metadata": {},
   "outputs": [
    {
     "name": "stdout",
     "output_type": "stream",
     "text": [
      "Total Number of Null Values in Dataset: \n",
      " gender                      2\n",
      "NationalITy                 0\n",
      "PlaceofBirth                0\n",
      "StageID                     0\n",
      "GradeID                     0\n",
      "SectionID                   0\n",
      "Topic                       0\n",
      "Semester                    0\n",
      "Relation                    0\n",
      "raisedhands                 2\n",
      "VisITedResources            0\n",
      "AnnouncementsView           0\n",
      "Discussion                  0\n",
      "ParentAnsweringSurvey       0\n",
      "ParentschoolSatisfaction    0\n",
      "StudentAbsenceDays          0\n",
      "Class                       0\n",
      "dtype: int64\n"
     ]
    }
   ],
   "source": [
    "print('Total Number of Null Values in Dataset: \\n', df.isna().sum())"
   ]
  },
  {
   "cell_type": "code",
   "execution_count": 21,
   "id": "b036d114-df79-4eae-8803-9b5937084597",
   "metadata": {},
   "outputs": [
    {
     "name": "stdout",
     "output_type": "stream",
     "text": [
      "Total Number of Null Values in Dataset: \n",
      " gender                      0\n",
      "NationalITy                 0\n",
      "PlaceofBirth                0\n",
      "StageID                     0\n",
      "GradeID                     0\n",
      "SectionID                   0\n",
      "Topic                       0\n",
      "Semester                    0\n",
      "Relation                    0\n",
      "raisedhands                 0\n",
      "VisITedResources            0\n",
      "AnnouncementsView           0\n",
      "Discussion                  0\n",
      "ParentAnsweringSurvey       0\n",
      "ParentschoolSatisfaction    0\n",
      "StudentAbsenceDays          0\n",
      "Class                       0\n",
      "dtype: int64\n"
     ]
    },
    {
     "name": "stderr",
     "output_type": "stream",
     "text": [
      "C:\\TEMPS\\ipykernel_14464\\2110481586.py:1: FutureWarning: A value is trying to be set on a copy of a DataFrame or Series through chained assignment using an inplace method.\n",
      "The behavior will change in pandas 3.0. This inplace method will never work because the intermediate object on which we are setting values always behaves as a copy.\n",
      "\n",
      "For example, when doing 'df[col].method(value, inplace=True)', try using 'df.method({col: value}, inplace=True)' or df[col] = df[col].method(value) instead, to perform the operation inplace on the original object.\n",
      "\n",
      "\n",
      "  df['gender'].fillna(df['gender'].mode()[0], inplace=True)\n",
      "C:\\TEMPS\\ipykernel_14464\\2110481586.py:2: FutureWarning: A value is trying to be set on a copy of a DataFrame or Series through chained assignment using an inplace method.\n",
      "The behavior will change in pandas 3.0. This inplace method will never work because the intermediate object on which we are setting values always behaves as a copy.\n",
      "\n",
      "For example, when doing 'df[col].method(value, inplace=True)', try using 'df.method({col: value}, inplace=True)' or df[col] = df[col].method(value) instead, to perform the operation inplace on the original object.\n",
      "\n",
      "\n",
      "  df['raisedhands'].fillna(df['raisedhands'].mean(), inplace=True)\n"
     ]
    }
   ],
   "source": [
    " df['gender'].fillna(df['gender'].mode()[0], inplace=True)\n",
    " df['raisedhands'].fillna(df['raisedhands'].mean(), inplace=True)\n",
    " print('Total Number of Null Values in Dataset: \\n', df.isna().sum())"
   ]
  },
  {
   "cell_type": "code",
   "execution_count": 22,
   "id": "ecd09e39-33bf-4543-bfa7-4e4b99bec447",
   "metadata": {},
   "outputs": [],
   "source": [
    " df['Relation']=df['Relation'].astype('category')\n",
    " df['Relation']=df['Relation'].cat.codes"
   ]
  },
  {
   "cell_type": "code",
   "execution_count": 23,
   "id": "ccd7a339-f24a-4b83-8531-ebf5afc38bdd",
   "metadata": {
    "scrolled": true
   },
   "outputs": [
    {
     "data": {
      "image/png": "[encoded data removed]",
      "text/plain": [
       "<Figure size 640x480 with 4 Axes>"
      ]
     },
     "metadata": {},
     "output_type": "display_data"
    }
   ],
   "source": [
    " fig, axes = plt.subplots(2,2)\n",
    " fig.suptitle('Before removing Outliers')\n",
    " sns.boxplot(data = df, x ='raisedhands', ax=axes[0,0])\n",
    " sns.boxplot(data = df, x ='VisITedResources', ax=axes[0,1])\n",
    " sns.boxplot(data = df, x ='AnnouncementsView', ax=axes[1,0])\n",
    " sns.boxplot(data = df, x ='Discussion', ax=axes[1,1])\n",
    " plt.show()"
   ]
  },
  {
   "cell_type": "code",
   "execution_count": 24,
   "id": "e80e6e29-5c88-4a36-9db9-17cccb6a5c01",
   "metadata": {},
   "outputs": [
    {
     "name": "stdout",
     "output_type": "stream",
     "text": [
      "Highest allowed in variable: raisedhands 165.0\n",
      "lowest allowed in variable: raisedhands -75.0\n",
      "Total outliers in: raisedhands : 1\n",
      "Outliers : \n",
      " 1\n",
      "                                    28\n",
      "gender                               M\n",
      "NationalITy                         KW\n",
      "PlaceofBirth                    KuwaIT\n",
      "StageID                   MiddleSchool\n",
      "GradeID                           G-08\n",
      "SectionID                            A\n",
      "Topic                          Science\n",
      "Semester                             F\n",
      "Relation                             0\n",
      "raisedhands                      170.0\n",
      "VisITedResources                    85\n",
      "AnnouncementsView                   52\n",
      "Discussion                          43\n",
      "ParentAnsweringSurvey              Yes\n",
      "ParentschoolSatisfaction          Good\n",
      "StudentAbsenceDays             Under-7\n",
      "Class                                M\n"
     ]
    },
    {
     "data": {
      "image/png": "[encoded data removed]",
      "text/plain": [
       "<Figure size 640x480 with 4 Axes>"
      ]
     },
     "metadata": {},
     "output_type": "display_data"
    }
   ],
   "source": [
    " df = DetectOutlier(df, 'raisedhands')\n",
    " fig, axes = plt.subplots(2,2)\n",
    " fig.suptitle('After removing Outliers')\n",
    " sns.boxplot(data = df, x ='raisedhands', ax=axes[0,0])\n",
    " sns.boxplot(data = df, x ='VisITedResources', ax=axes[0,1])\n",
    " sns.boxplot(data = df, x ='AnnouncementsView', ax=axes[1,0])\n",
    " sns.boxplot(data = df, x ='Discussion', ax=axes[1,1])\n",
    " plt.show()"
   ]
  },
  {
   "cell_type": "code",
   "execution_count": 25,
   "id": "b603c7fb-57e4-43ed-85e4-327190d60b31",
   "metadata": {},
   "outputs": [
    {
     "name": "stdout",
     "output_type": "stream",
     "text": [
      "---------------- Data Skew Values before Yeo John Transformation ----------------------\n",
      "raisedhands:  0.028374079559687623\n",
      "VisITedResources:  -0.3388404568312024\n",
      "AnnouncementsView:  0.4021955128761278\n",
      "Discussion:  0.3621541732143617\n"
     ]
    }
   ],
   "source": [
    " print('---------------- Data Skew Values before Yeo John Transformation ----------------------')\n",
    " print('raisedhands: ', df['raisedhands'].skew())\n",
    " print('VisITedResources: ', df['VisITedResources'].skew())\n",
    " print('AnnouncementsView: ', df['AnnouncementsView'].skew())\n",
    " print('Discussion: ', df['Discussion'].skew())"
   ]
  },
  {
   "cell_type": "code",
   "execution_count": 26,
   "id": "ef6d25b3-31f2-4570-a0d8-b58bfdcf6f75",
   "metadata": {},
   "outputs": [
    {
     "name": "stdout",
     "output_type": "stream",
     "text": [
      "---------------- Data Skew Values after Yeo John Transformation ----------------------\n",
      "AnnouncementsView: -0.1800377395845211\n",
      "Discussion -0.13328782723929383\n"
     ]
    },
    {
     "data": {
      "image/png": "[encoded data removed]",
      "text/plain": [
       "<Figure size 640x480 with 4 Axes>"
      ]
     },
     "metadata": {},
     "output_type": "display_data"
    }
   ],
   "source": [
    "fig,axes=plt.subplots(2,2)\n",
    "fig.suptitle('Handling Data skewness')\n",
    "sns.histplot(ax=axes[0,0],data=df['AnnouncementsView'],kde=True)\n",
    "sns.histplot(ax=axes[0,1],data=df['Discussion'],kde=True)\n",
    "from sklearn.preprocessing import PowerTransformer\n",
    "yeojohnTr=PowerTransformer(standardize=True)\n",
    "df['AnnouncementsView']=yeojohnTr.fit_transform(df['AnnouncementsView'].values.reshape(-1,1))\n",
    "df['Discussion']=yeojohnTr.fit_transform(df['Discussion'].values.reshape(-1,1))\n",
    "print('---------------- Data Skew Values after Yeo John Transformation ----------------------')\n",
    "print('AnnouncementsView:',df['AnnouncementsView'].skew())\n",
    "print('Discussion',df['Discussion'].skew())\n",
    "sns.histplot(ax=axes[1,0],data=df['AnnouncementsView'],kde=True)\n",
    "sns.histplot(ax=axes[1,1],data=df['Discussion'],kde=True)\n",
    "plt.show()\n",
    "             "
   ]
  },
  {
   "cell_type": "code",
   "execution_count": null,
   "id": "6244ca42-785a-4953-b94e-1ea3cf16f1bc",
   "metadata": {},
   "outputs": [],
   "source": []
  }
 ],
 "metadata": {
  "kernelspec": {
   "display_name": "Python 3 (ipykernel)",
   "language": "python",
   "name": "python3"
  },
  "language_info": {
   "codemirror_mode": {
    "name": "ipython",
    "version": 3
   },
   "file_extension": ".py",
   "mimetype": "text/x-python",
   "name": "python",
   "nbconvert_exporter": "python",
   "pygments_lexer": "ipython3",
   "version": "3.12.0"
  }
 },
 "nbformat": 4,
 "nbformat_minor": 5
}
