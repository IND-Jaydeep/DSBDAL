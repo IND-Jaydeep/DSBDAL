{
 "cells": [
  {
   "cell_type": "code",
   "execution_count": 1,
   "id": "dfa5ccc9-1b91-4153-8708-8027f7264b22",
   "metadata": {},
   "outputs": [],
   "source": [
    "import pandas as pd\n",
    "import numpy as np"
   ]
  },
  {
   "cell_type": "code",
   "execution_count": 2,
   "id": "16be6b83-b009-4b74-bb10-b434f476d537",
   "metadata": {},
   "outputs": [],
   "source": [
    "import pandas as pd\n",
    "import numpy as np"
   ]
  },
  {
   "cell_type": "code",
   "execution_count": 3,
   "id": "abdbcfef-025a-4441-bad8-280f52fd6e64",
   "metadata": {},
   "outputs": [],
   "source": [
    "df = pd.read_csv('Placement.csv')\n"
   ]
  },
  {
   "cell_type": "code",
   "execution_count": 4,
   "id": "86fd4a28-df3c-48cc-8fdd-87141fdad504",
   "metadata": {},
   "outputs": [
    {
     "name": "stdout",
     "output_type": "stream",
     "text": [
      "Information of Dataset:\n",
      " <bound method DataFrame.info of      sl_no gender  ssc_p    ssc_b  hsc_p    hsc_b     hsc_s  degree_p  \\\n",
      "0        1      M  67.00   Others  91.00   Others  Commerce     58.00   \n",
      "1        2      M  79.33  Central  78.33   Others   Science     77.48   \n",
      "2        3      M  65.00  Central  68.00  Central      Arts     64.00   \n",
      "3        4      M  56.00  Central  52.00  Central   Science     52.00   \n",
      "4        5    NaN  85.80  Central  73.60  Central  Commerce     73.30   \n",
      "..     ...    ...    ...      ...    ...      ...       ...       ...   \n",
      "210    211      M  80.60   Others  82.00   Others  Commerce     77.60   \n",
      "211    212      M  58.00   Others  60.00   Others   Science     72.00   \n",
      "212    213      M  67.00   Others  67.00   Others  Commerce     73.00   \n",
      "213    214      F  74.00   Others  66.00   Others  Commerce     58.00   \n",
      "214    215      M  62.00  Central  58.00   Others   Science     53.00   \n",
      "\n",
      "      degree_t workex  etest_p specialisation  mba_p      status    salary  \n",
      "0     Sci&Tech     No     55.0         Mkt&HR  58.80      Placed  270000.0  \n",
      "1     Sci&Tech    Yes     86.5        Mkt&Fin  66.28      Placed  200000.0  \n",
      "2    Comm&Mgmt     No     75.0        Mkt&Fin  57.80      Placed  250000.0  \n",
      "3     Sci&Tech     No     66.0         Mkt&HR  59.43  Not Placed       NaN  \n",
      "4    Comm&Mgmt     No     96.8        Mkt&Fin  55.50      Placed  425000.0  \n",
      "..         ...    ...      ...            ...    ...         ...       ...  \n",
      "210  Comm&Mgmt     No     91.0        Mkt&Fin  74.49      Placed  400000.0  \n",
      "211   Sci&Tech     No     74.0        Mkt&Fin  53.62      Placed  275000.0  \n",
      "212  Comm&Mgmt    Yes     59.0        Mkt&Fin  69.72      Placed  295000.0  \n",
      "213  Comm&Mgmt     No     70.0         Mkt&HR  60.23      Placed  204000.0  \n",
      "214  Comm&Mgmt     No     89.0         Mkt&HR  60.22  Not Placed       NaN  \n",
      "\n",
      "[215 rows x 15 columns]>\n"
     ]
    }
   ],
   "source": [
    "print('Information of Dataset:\\n', df.info)\n"
   ]
  },
  {
   "cell_type": "code",
   "execution_count": 5,
   "id": "74798443-d31a-47c1-8578-b3490a0a8618",
   "metadata": {},
   "outputs": [
    {
     "name": "stdout",
     "output_type": "stream",
     "text": [
      "Shape of Dataset (row x column):  (215, 15)\n",
      "Columns Name:  Index(['sl_no', 'gender', 'ssc_p', 'ssc_b', 'hsc_p', 'hsc_b', 'hsc_s',\n",
      "       'degree_p', 'degree_t', 'workex', 'etest_p', 'specialisation', 'mba_p',\n",
      "       'status', 'salary'],\n",
      "      dtype='object')\n",
      "Total elements in dataset: 3225\n",
      "Datatype of attributes (columns): sl_no               int64\n",
      "gender             object\n",
      "ssc_p             float64\n",
      "ssc_b              object\n",
      "hsc_p             float64\n",
      "hsc_b              object\n",
      "hsc_s              object\n",
      "degree_p          float64\n",
      "degree_t           object\n",
      "workex             object\n",
      "etest_p           float64\n",
      "specialisation     object\n",
      "mba_p             float64\n",
      "status             object\n",
      "salary            float64\n",
      "dtype: object\n",
      "First 5 rows:\n",
      "                        0         1          2           3          4\n",
      "sl_no                  1         2          3           4          5\n",
      "gender                 M         M          M           M        NaN\n",
      "ssc_p               67.0     79.33       65.0        56.0       85.8\n",
      "ssc_b             Others   Central    Central     Central    Central\n",
      "hsc_p               91.0     78.33       68.0        52.0       73.6\n",
      "hsc_b             Others    Others    Central     Central    Central\n",
      "hsc_s           Commerce   Science       Arts     Science   Commerce\n",
      "degree_p            58.0     77.48       64.0        52.0       73.3\n",
      "degree_t        Sci&Tech  Sci&Tech  Comm&Mgmt    Sci&Tech  Comm&Mgmt\n",
      "workex                No       Yes         No          No         No\n",
      "etest_p             55.0      86.5       75.0        66.0       96.8\n",
      "specialisation    Mkt&HR   Mkt&Fin    Mkt&Fin      Mkt&HR    Mkt&Fin\n",
      "mba_p               58.8     66.28       57.8       59.43       55.5\n",
      "status            Placed    Placed     Placed  Not Placed     Placed\n",
      "salary          270000.0  200000.0   250000.0         NaN   425000.0\n",
      "Last 5 rows:\n",
      "                       210       211        212        213         214\n",
      "sl_no                 211       212        213        214         215\n",
      "gender                  M         M          M          F           M\n",
      "ssc_p                80.6      58.0       67.0       74.0        62.0\n",
      "ssc_b              Others    Others     Others     Others     Central\n",
      "hsc_p                82.0      60.0       67.0       66.0        58.0\n",
      "hsc_b              Others    Others     Others     Others      Others\n",
      "hsc_s            Commerce   Science   Commerce   Commerce     Science\n",
      "degree_p             77.6      72.0       73.0       58.0        53.0\n",
      "degree_t        Comm&Mgmt  Sci&Tech  Comm&Mgmt  Comm&Mgmt   Comm&Mgmt\n",
      "workex                 No        No        Yes         No          No\n",
      "etest_p              91.0      74.0       59.0       70.0        89.0\n",
      "specialisation    Mkt&Fin   Mkt&Fin    Mkt&Fin     Mkt&HR      Mkt&HR\n",
      "mba_p               74.49     53.62      69.72      60.23       60.22\n",
      "status             Placed    Placed     Placed     Placed  Not Placed\n",
      "salary           400000.0  275000.0   295000.0   204000.0         NaN\n",
      "Any 5 rows:\n",
      "                       101         144         161         105         186\n",
      "sl_no                 102         145         162         106         187\n",
      "gender                  M           M           M           M           F\n",
      "ssc_p                63.0        52.0        55.6        59.0        52.0\n",
      "ssc_b             Central      Others      Others     Central     Central\n",
      "hsc_p                72.0        50.0        51.0        64.0        64.0\n",
      "hsc_b             Central      Others      Others      Others     Central\n",
      "hsc_s            Commerce        Arts    Commerce     Science    Commerce\n",
      "degree_p             68.0        61.0        57.5        58.0        61.0\n",
      "degree_t        Comm&Mgmt   Comm&Mgmt   Comm&Mgmt    Sci&Tech   Comm&Mgmt\n",
      "workex                 No          No          No          No          No\n",
      "etest_p              78.0        60.0       57.63        85.0        55.0\n",
      "specialisation     Mkt&HR     Mkt&Fin      Mkt&HR      Mkt&HR     Mkt&Fin\n",
      "mba_p               60.44       58.52       62.72        55.3       62.93\n",
      "status             Placed  Not Placed  Not Placed  Not Placed  Not Placed\n",
      "salary           380000.0         NaN         NaN         NaN         NaN\n"
     ]
    }
   ],
   "source": [
    " print('Shape of Dataset (row x column): ', df.shape)\n",
    " print('Columns Name: ', df.columns)\n",
    " print('Total elements in dataset:', df.size)\n",
    " print('Datatype of attributes (columns):', df.dtypes)\n",
    " print('First 5 rows:\\n', df.head().T)\n",
    " print('Last 5 rows:\\n',df.tail().T)\n",
    " print('Any 5 rows:\\n',df.sample(5).T)"
   ]
  },
  {
   "cell_type": "code",
   "execution_count": 6,
   "id": "6bc9d95b-e850-4afc-86f8-8acde2111451",
   "metadata": {},
   "outputs": [
    {
     "name": "stdout",
     "output_type": "stream",
     "text": [
      "Statistical information of Numerical Columns: \n",
      "             sl_no       ssc_p       hsc_p    degree_p     etest_p       mba_p  \\\n",
      "count  215.000000  213.000000  214.000000  213.000000  213.000000  213.000000   \n",
      "mean   108.000000   67.372911   66.344065   66.388404   72.219390   62.266103   \n",
      "std     62.209324   10.811464   10.921885    7.256840   13.255118    5.837303   \n",
      "min      1.000000   40.890000   37.000000   50.200000   50.000000   51.210000   \n",
      "25%     54.500000   60.800000   60.850000   61.000000   60.000000   57.900000   \n",
      "50%    108.000000   67.000000   65.000000   66.000000   71.000000   62.000000   \n",
      "75%    161.500000   76.000000   73.000000   72.000000   84.000000   66.230000   \n",
      "max    215.000000   89.400000   97.700000   91.000000   98.000000   77.890000   \n",
      "\n",
      "              salary  \n",
      "count     148.000000  \n",
      "mean   288655.405405  \n",
      "std     93457.452420  \n",
      "min    200000.000000  \n",
      "25%    240000.000000  \n",
      "50%    265000.000000  \n",
      "75%    300000.000000  \n",
      "max    940000.000000  \n"
     ]
    }
   ],
   "source": [
    "print('Statistical information of Numerical Columns: \\n',df.describe())"
   ]
  },
  {
   "cell_type": "code",
   "execution_count": 7,
   "id": "ed2ec9bd-86ac-472d-a4aa-03159b91207f",
   "metadata": {},
   "outputs": [
    {
     "name": "stdout",
     "output_type": "stream",
     "text": [
      "Total Number of Null Values in Dataset: sl_no              0\n",
      "gender             2\n",
      "ssc_p              2\n",
      "ssc_b              1\n",
      "hsc_p              1\n",
      "hsc_b              2\n",
      "hsc_s              2\n",
      "degree_p           2\n",
      "degree_t           1\n",
      "workex             2\n",
      "etest_p            2\n",
      "specialisation     2\n",
      "mba_p              2\n",
      "status             0\n",
      "salary            67\n",
      "dtype: int64\n"
     ]
    }
   ],
   "source": [
    "print('Total Number of Null Values in Dataset:', df.isna().sum())"
   ]
  },
  {
   "cell_type": "markdown",
   "id": "f6af7ecc-7202-409c-8d37-d8afeb3f55d9",
   "metadata": {},
   "source": [
    "df['gender'].fillna(df['gender'].mode()[0], inplace=True)\n",
    "df['ssc_p'].fillna(df['ssc_p'].mean(), inplace=True)\n",
    "print('Mode of ssc_b: ', df['ssc_b'].mode())\n",
    "df['ssc_b'].fillna(df['ssc_b'].mode()[0], inplace=True)"
   ]
  },
  {
   "cell_type": "code",
   "execution_count": 9,
   "id": "d8604f76-3eec-4513-9148-06cbe14b4d4d",
   "metadata": {},
   "outputs": [
    {
     "name": "stdout",
     "output_type": "stream",
     "text": [
      "Mode of ssc_b:  0    Central\n",
      "Name: ssc_b, dtype: object\n"
     ]
    },
    {
     "name": "stderr",
     "output_type": "stream",
     "text": [
      "C:\\TEMPS\\ipykernel_3908\\2631065685.py:2: FutureWarning: A value is trying to be set on a copy of a DataFrame or Series through chained assignment using an inplace method.\n",
      "The behavior will change in pandas 3.0. This inplace method will never work because the intermediate object on which we are setting values always behaves as a copy.\n",
      "\n",
      "For example, when doing 'df[col].method(value, inplace=True)', try using 'df.method({col: value}, inplace=True)' or df[col] = df[col].method(value) instead, to perform the operation inplace on the original object.\n",
      "\n",
      "\n",
      "  df['ssc_p'].fillna(df['ssc_p'].mean(), inplace=True)\n"
     ]
    }
   ],
   "source": [
    " df['gender'].fillna(df['gender'].mode()[0], inplace=True)\n",
    " df['ssc_p'].fillna(df['ssc_p'].mean(), inplace=True)\n",
    " print('Mode of ssc_b: ', df['ssc_b'].mode())\n",
    " df['ssc_b'].fillna(df['ssc_b'].mode()[0], inplace=True)"
   ]
  },
  {
   "cell_type": "code",
   "execution_count": 10,
   "id": "6241ef0e-c4d2-4fbe-ac3c-35f8cba856b6",
   "metadata": {},
   "outputs": [
    {
     "name": "stdout",
     "output_type": "stream",
     "text": [
      "Mode of ssc_b:  0    Central\n",
      "Name: ssc_b, dtype: object\n"
     ]
    },
    {
     "name": "stderr",
     "output_type": "stream",
     "text": [
      "C:\\TEMPS\\ipykernel_3908\\894224178.py:2: FutureWarning: A value is trying to be set on a copy of a DataFrame or Series through chained assignment using an inplace method.\n",
      "The behavior will change in pandas 3.0. This inplace method will never work because the intermediate object on which we are setting values always behaves as a copy.\n",
      "\n",
      "For example, when doing 'df[col].method(value, inplace=True)', try using 'df.method({col: value}, inplace=True)' or df[col] = df[col].method(value) instead, to perform the operation inplace on the original object.\n",
      "\n",
      "\n",
      "  df['ssc_p'].fillna(df['ssc_p'].mean(), inplace=True)\n"
     ]
    }
   ],
   "source": [
    " df['gender'].fillna(df['gender'].mode()[0], inplace=True)\n",
    " df['ssc_p'].fillna(df['ssc_p'].mean(), inplace=True)\n",
    " print('Mode of ssc_b: ', df['ssc_b'].mode())\n",
    " "
   ]
  },
  {
   "cell_type": "code",
   "execution_count": 11,
   "id": "64c8ec16-c5ca-4177-b8ff-34552bb74b1f",
   "metadata": {},
   "outputs": [
    {
     "name": "stdout",
     "output_type": "stream",
     "text": [
      "Mode of ssc_b:  0    Central\n",
      "Name: ssc_b, dtype: object\n",
      "Total Number of Null Values in Dataset: sl_no              0\n",
      "gender             0\n",
      "ssc_p              0\n",
      "ssc_b              0\n",
      "hsc_p              1\n",
      "hsc_b              2\n",
      "hsc_s              2\n",
      "degree_p           2\n",
      "degree_t           1\n",
      "workex             2\n",
      "etest_p            2\n",
      "specialisation     2\n",
      "mba_p              2\n",
      "status             0\n",
      "salary            67\n",
      "dtype: int64\n"
     ]
    },
    {
     "name": "stderr",
     "output_type": "stream",
     "text": [
      "C:\\TEMPS\\ipykernel_3908\\2636416532.py:2: FutureWarning: A value is trying to be set on a copy of a DataFrame or Series through chained assignment using an inplace method.\n",
      "The behavior will change in pandas 3.0. This inplace method will never work because the intermediate object on which we are setting values always behaves as a copy.\n",
      "\n",
      "For example, when doing 'df[col].method(value, inplace=True)', try using 'df.method({col: value}, inplace=True)' or df[col] = df[col].method(value) instead, to perform the operation inplace on the original object.\n",
      "\n",
      "\n",
      "  df['ssc_p'].fillna(df['ssc_p'].mean(), inplace=True)\n"
     ]
    }
   ],
   "source": [
    " df['gender'].fillna(df['gender'].mode()[0], inplace=True)\n",
    " df['ssc_p'].fillna(df['ssc_p'].mean(), inplace=True)\n",
    " print('Mode of ssc_b: ', df['ssc_b'].mode())\n",
    " df['ssc_b'].fillna(df['ssc_b'].mode()[0], inplace=True)\n",
    " print('Total Number of Null Values in Dataset:', df.isna().sum())"
   ]
  },
  {
   "cell_type": "code",
   "execution_count": 12,
   "id": "3aaa5014-44f6-4252-b5fc-b1058e11df9d",
   "metadata": {},
   "outputs": [
    {
     "name": "stdout",
     "output_type": "stream",
     "text": [
      "Change in datatype:  int8\n"
     ]
    }
   ],
   "source": [
    " df['sl_no']=df['sl_no'].astype('int8')\n",
    " print('Change in datatype: ', df['sl_no'].dtypes)"
   ]
  },
  {
   "cell_type": "code",
   "execution_count": 13,
   "id": "96f58a36-7b05-4a19-b4fa-b373db73da8b",
   "metadata": {},
   "outputs": [
    {
     "name": "stdout",
     "output_type": "stream",
     "text": [
      "Datatype of attributes (columns): sl_no                int8\n",
      "gender             object\n",
      "ssc_p             float64\n",
      "ssc_b              object\n",
      "hsc_p             float64\n",
      "hsc_b              object\n",
      "hsc_s              object\n",
      "degree_p          float64\n",
      "degree_t           object\n",
      "workex             object\n",
      "etest_p           float64\n",
      "specialisation     object\n",
      "mba_p             float64\n",
      "status             object\n",
      "salary            float64\n",
      "dtype: object\n"
     ]
    }
   ],
   "source": [
    "print('Datatype of attributes (columns):', df.dtypes)\n"
   ]
  },
  {
   "cell_type": "code",
   "execution_count": 15,
   "id": "85c6a7bc-f641-41e0-9282-b764e8e57ca0",
   "metadata": {},
   "outputs": [
    {
     "name": "stdout",
     "output_type": "stream",
     "text": [
      "<bound method DataFrame.info of      sl_no  gender  ssc_p    ssc_b  hsc_p    hsc_b     hsc_s  degree_p  \\\n",
      "0        1       0  67.00   Others  91.00   Others  Commerce     58.00   \n",
      "1        2       0  79.33  Central  78.33   Others   Science     77.48   \n",
      "2        3       0  65.00  Central  68.00  Central      Arts     64.00   \n",
      "3        4       0  56.00  Central  52.00  Central   Science     52.00   \n",
      "4        5       0  85.80  Central  73.60  Central  Commerce     73.30   \n",
      "..     ...     ...    ...      ...    ...      ...       ...       ...   \n",
      "210    -45       0  80.60   Others  82.00   Others  Commerce     77.60   \n",
      "211    -44       0  58.00   Others  60.00   Others   Science     72.00   \n",
      "212    -43       0  67.00   Others  67.00   Others  Commerce     73.00   \n",
      "213    -42       1  74.00   Others  66.00   Others  Commerce     58.00   \n",
      "214    -41       0  62.00  Central  58.00   Others   Science     53.00   \n",
      "\n",
      "      degree_t workex  etest_p specialisation  mba_p      status    salary  \n",
      "0     Sci&Tech     No     55.0         Mkt&HR  58.80      Placed  270000.0  \n",
      "1     Sci&Tech    Yes     86.5        Mkt&Fin  66.28      Placed  200000.0  \n",
      "2    Comm&Mgmt     No     75.0        Mkt&Fin  57.80      Placed  250000.0  \n",
      "3     Sci&Tech     No     66.0         Mkt&HR  59.43  Not Placed       NaN  \n",
      "4    Comm&Mgmt     No     96.8        Mkt&Fin  55.50      Placed  425000.0  \n",
      "..         ...    ...      ...            ...    ...         ...       ...  \n",
      "210  Comm&Mgmt     No     91.0        Mkt&Fin  74.49      Placed  400000.0  \n",
      "211   Sci&Tech     No     74.0        Mkt&Fin  53.62      Placed  275000.0  \n",
      "212  Comm&Mgmt    Yes     59.0        Mkt&Fin  69.72      Placed  295000.0  \n",
      "213  Comm&Mgmt     No     70.0         Mkt&HR  60.23      Placed  204000.0  \n",
      "214  Comm&Mgmt     No     89.0         Mkt&HR  60.22  Not Placed       NaN  \n",
      "\n",
      "[215 rows x 15 columns]>\n"
     ]
    },
    {
     "name": "stderr",
     "output_type": "stream",
     "text": [
      "C:\\TEMPS\\ipykernel_3908\\3530569416.py:1: FutureWarning: A value is trying to be set on a copy of a DataFrame or Series through chained assignment using an inplace method.\n",
      "The behavior will change in pandas 3.0. This inplace method will never work because the intermediate object on which we are setting values always behaves as a copy.\n",
      "\n",
      "For example, when doing 'df[col].method(value, inplace=True)', try using 'df.method({col: value}, inplace=True)' or df[col] = df[col].method(value) instead, to perform the operation inplace on the original object.\n",
      "\n",
      "\n",
      "  df['gender'].replace(['M','F'],[0,1],inplace=True)\n",
      "C:\\TEMPS\\ipykernel_3908\\3530569416.py:1: FutureWarning: Downcasting behavior in `replace` is deprecated and will be removed in a future version. To retain the old behavior, explicitly call `result.infer_objects(copy=False)`. To opt-in to the future behavior, set `pd.set_option('future.no_silent_downcasting', True)`\n",
      "  df['gender'].replace(['M','F'],[0,1],inplace=True)\n"
     ]
    }
   ],
   "source": [
    "df['gender'].replace(['M','F'],[0,1],inplace=True) \n",
    "print(df.info)"
   ]
  },
  {
   "cell_type": "code",
   "execution_count": 17,
   "id": "47eea722-25d9-48d9-a693-2b9f28a03332",
   "metadata": {},
   "outputs": [
    {
     "name": "stdout",
     "output_type": "stream",
     "text": [
      "sl_no                int8\n",
      "gender              int64\n",
      "ssc_p             float64\n",
      "ssc_b              object\n",
      "hsc_p             float64\n",
      "hsc_b              object\n",
      "hsc_s              object\n",
      "degree_p          float64\n",
      "degree_t           object\n",
      "workex             object\n",
      "etest_p           float64\n",
      "specialisation     object\n",
      "mba_p             float64\n",
      "status             object\n",
      "salary            float64\n",
      "dtype: object\n"
     ]
    }
   ],
   "source": [
    "print(df.dtypes)"
   ]
  },
  {
   "cell_type": "code",
   "execution_count": 18,
   "id": "3f4967a9-843e-434c-93fc-7b83cf6f983a",
   "metadata": {},
   "outputs": [],
   "source": [
    "df['ssc_b']=df['ssc_b'].astype('category')"
   ]
  },
  {
   "cell_type": "code",
   "execution_count": 19,
   "id": "4d85b4f8-19f1-4815-ae50-e5a9e969f263",
   "metadata": {},
   "outputs": [
    {
     "name": "stdout",
     "output_type": "stream",
     "text": [
      "sl_no                 int8\n",
      "gender               int64\n",
      "ssc_p              float64\n",
      "ssc_b             category\n",
      "hsc_p              float64\n",
      "hsc_b               object\n",
      "hsc_s               object\n",
      "degree_p           float64\n",
      "degree_t            object\n",
      "workex              object\n",
      "etest_p            float64\n",
      "specialisation      object\n",
      "mba_p              float64\n",
      "status              object\n",
      "salary             float64\n",
      "dtype: object\n"
     ]
    }
   ],
   "source": [
    "print ( df.dtypes)"
   ]
  },
  {
   "cell_type": "code",
   "execution_count": 20,
   "id": "c587dd51-048c-4e5a-9914-31ce69cda2ea",
   "metadata": {},
   "outputs": [
    {
     "name": "stdout",
     "output_type": "stream",
     "text": [
      "<bound method DataFrame.info of      sl_no  gender  ssc_p    ssc_b  hsc_p    hsc_b     hsc_s  degree_p  \\\n",
      "0        1       0  67.00   Others  91.00   Others  Commerce     58.00   \n",
      "1        2       0  79.33  Central  78.33   Others   Science     77.48   \n",
      "2        3       0  65.00  Central  68.00  Central      Arts     64.00   \n",
      "3        4       0  56.00  Central  52.00  Central   Science     52.00   \n",
      "4        5       0  85.80  Central  73.60  Central  Commerce     73.30   \n",
      "..     ...     ...    ...      ...    ...      ...       ...       ...   \n",
      "210    -45       0  80.60   Others  82.00   Others  Commerce     77.60   \n",
      "211    -44       0  58.00   Others  60.00   Others   Science     72.00   \n",
      "212    -43       0  67.00   Others  67.00   Others  Commerce     73.00   \n",
      "213    -42       1  74.00   Others  66.00   Others  Commerce     58.00   \n",
      "214    -41       0  62.00  Central  58.00   Others   Science     53.00   \n",
      "\n",
      "      degree_t workex  etest_p specialisation  mba_p      status    salary  \n",
      "0     Sci&Tech     No     55.0         Mkt&HR  58.80      Placed  270000.0  \n",
      "1     Sci&Tech    Yes     86.5        Mkt&Fin  66.28      Placed  200000.0  \n",
      "2    Comm&Mgmt     No     75.0        Mkt&Fin  57.80      Placed  250000.0  \n",
      "3     Sci&Tech     No     66.0         Mkt&HR  59.43  Not Placed       NaN  \n",
      "4    Comm&Mgmt     No     96.8        Mkt&Fin  55.50      Placed  425000.0  \n",
      "..         ...    ...      ...            ...    ...         ...       ...  \n",
      "210  Comm&Mgmt     No     91.0        Mkt&Fin  74.49      Placed  400000.0  \n",
      "211   Sci&Tech     No     74.0        Mkt&Fin  53.62      Placed  275000.0  \n",
      "212  Comm&Mgmt    Yes     59.0        Mkt&Fin  69.72      Placed  295000.0  \n",
      "213  Comm&Mgmt     No     70.0         Mkt&HR  60.23      Placed  204000.0  \n",
      "214  Comm&Mgmt     No     89.0         Mkt&HR  60.22  Not Placed       NaN  \n",
      "\n",
      "[215 rows x 15 columns]>\n"
     ]
    }
   ],
   "source": [
    "print(df.info)"
   ]
  },
  {
   "cell_type": "code",
   "execution_count": 21,
   "id": "a0708a60-1937-4b0f-9c35-c1aaffb0f0b3",
   "metadata": {},
   "outputs": [],
   "source": [
    "df['ssc_b']=df['ssc_b'].cat.codes"
   ]
  },
  {
   "cell_type": "code",
   "execution_count": 22,
   "id": "2227e76f-6fa1-4947-9ff6-1fd94f8a47f4",
   "metadata": {},
   "outputs": [
    {
     "name": "stdout",
     "output_type": "stream",
     "text": [
      "<bound method DataFrame.info of      sl_no  gender  ssc_p  ssc_b  hsc_p    hsc_b     hsc_s  degree_p  \\\n",
      "0        1       0  67.00      1  91.00   Others  Commerce     58.00   \n",
      "1        2       0  79.33      0  78.33   Others   Science     77.48   \n",
      "2        3       0  65.00      0  68.00  Central      Arts     64.00   \n",
      "3        4       0  56.00      0  52.00  Central   Science     52.00   \n",
      "4        5       0  85.80      0  73.60  Central  Commerce     73.30   \n",
      "..     ...     ...    ...    ...    ...      ...       ...       ...   \n",
      "210    -45       0  80.60      1  82.00   Others  Commerce     77.60   \n",
      "211    -44       0  58.00      1  60.00   Others   Science     72.00   \n",
      "212    -43       0  67.00      1  67.00   Others  Commerce     73.00   \n",
      "213    -42       1  74.00      1  66.00   Others  Commerce     58.00   \n",
      "214    -41       0  62.00      0  58.00   Others   Science     53.00   \n",
      "\n",
      "      degree_t workex  etest_p specialisation  mba_p      status    salary  \n",
      "0     Sci&Tech     No     55.0         Mkt&HR  58.80      Placed  270000.0  \n",
      "1     Sci&Tech    Yes     86.5        Mkt&Fin  66.28      Placed  200000.0  \n",
      "2    Comm&Mgmt     No     75.0        Mkt&Fin  57.80      Placed  250000.0  \n",
      "3     Sci&Tech     No     66.0         Mkt&HR  59.43  Not Placed       NaN  \n",
      "4    Comm&Mgmt     No     96.8        Mkt&Fin  55.50      Placed  425000.0  \n",
      "..         ...    ...      ...            ...    ...         ...       ...  \n",
      "210  Comm&Mgmt     No     91.0        Mkt&Fin  74.49      Placed  400000.0  \n",
      "211   Sci&Tech     No     74.0        Mkt&Fin  53.62      Placed  275000.0  \n",
      "212  Comm&Mgmt    Yes     59.0        Mkt&Fin  69.72      Placed  295000.0  \n",
      "213  Comm&Mgmt     No     70.0         Mkt&HR  60.23      Placed  204000.0  \n",
      "214  Comm&Mgmt     No     89.0         Mkt&HR  60.22  Not Placed       NaN  \n",
      "\n",
      "[215 rows x 15 columns]>\n"
     ]
    }
   ],
   "source": [
    "print(df.info)"
   ]
  },
  {
   "cell_type": "code",
   "execution_count": 28,
   "id": "85d3cd7d-8c67-40fc-9244-3a61dd67b99c",
   "metadata": {},
   "outputs": [
    {
     "ename": "ModuleNotFoundError",
     "evalue": "No module named 'sklearn'",
     "output_type": "error",
     "traceback": [
      "\u001b[31m---------------------------------------------------------------------------\u001b[39m",
      "\u001b[31mModuleNotFoundError\u001b[39m                       Traceback (most recent call last)",
      "\u001b[36mCell\u001b[39m\u001b[36m \u001b[39m\u001b[32mIn[28]\u001b[39m\u001b[32m, line 1\u001b[39m\n\u001b[32m----> \u001b[39m\u001b[32m1\u001b[39m \u001b[38;5;28;01mfrom\u001b[39;00m\u001b[38;5;250m \u001b[39m\u001b[34;01msklearn\u001b[39;00m\u001b[34;01m.\u001b[39;00m\u001b[34;01mpreprocessing\u001b[39;00m\u001b[38;5;250m \u001b[39m\u001b[38;5;28;01mimport\u001b[39;00m OrdinalEncoder\n\u001b[32m      2\u001b[39m enc = OrdinalEncoder()\n\u001b[32m      3\u001b[39m df[[\u001b[33m'\u001b[39m\u001b[33mhsc_b\u001b[39m\u001b[33m'\u001b[39m]]=enc.fit_transform(df[[\u001b[33m'\u001b[39m\u001b[33mhsc_b\u001b[39m\u001b[33m'\u001b[39m]])\n",
      "\u001b[31mModuleNotFoundError\u001b[39m: No module named 'sklearn'"
     ]
    }
   ],
   "source": [
    " from sklearn.preprocessing import OrdinalEncoder\n",
    " enc = OrdinalEncoder()\n",
    " df[['hsc_b']]=enc.fit_transform(df[['hsc_b']])"
   ]
  },
  {
   "cell_type": "code",
   "execution_count": 36,
   "id": "12031e19-47ce-46e7-90f1-8b0114673e36",
   "metadata": {},
   "outputs": [],
   "source": [
    "df['salary']=(df['salary']-df['salary'].min())/(df['salary'].max()-df['salary'].min())"
   ]
  },
  {
   "cell_type": "code",
   "execution_count": 38,
   "id": "ad344aec-53ca-4dc3-bae5-d4b020779ce6",
   "metadata": {},
   "outputs": [
    {
     "name": "stdout",
     "output_type": "stream",
     "text": [
      "min sal is 0.0 /t max salary is : 1.0\n"
     ]
    }
   ],
   "source": [
    "print ( \"min sal is\" , df['salary'].min() , \"/t max salary is :\",df['salary'].max())"
   ]
  },
  {
   "cell_type": "code",
   "execution_count": 30,
   "id": "b11b2760-06b3-4383-892e-75bec4c5dd5c",
   "metadata": {},
   "outputs": [
    {
     "name": "stdout",
     "output_type": "stream",
     "text": [
      "<bound method DataFrame.info of      sl_no  gender  ssc_p  ssc_b  hsc_p    hsc_b     hsc_s  degree_p  \\\n",
      "0        1       0  67.00      1  91.00   Others  Commerce     58.00   \n",
      "1        2       0  79.33      0  78.33   Others   Science     77.48   \n",
      "2        3       0  65.00      0  68.00  Central      Arts     64.00   \n",
      "3        4       0  56.00      0  52.00  Central   Science     52.00   \n",
      "4        5       0  85.80      0  73.60  Central  Commerce     73.30   \n",
      "..     ...     ...    ...    ...    ...      ...       ...       ...   \n",
      "210    -45       0  80.60      1  82.00   Others  Commerce     77.60   \n",
      "211    -44       0  58.00      1  60.00   Others   Science     72.00   \n",
      "212    -43       0  67.00      1  67.00   Others  Commerce     73.00   \n",
      "213    -42       1  74.00      1  66.00   Others  Commerce     58.00   \n",
      "214    -41       0  62.00      0  58.00   Others   Science     53.00   \n",
      "\n",
      "      degree_t workex  etest_p specialisation  mba_p      status    salary  \n",
      "0     Sci&Tech     No     55.0         Mkt&HR  58.80      Placed  0.094595  \n",
      "1     Sci&Tech    Yes     86.5        Mkt&Fin  66.28      Placed  0.000000  \n",
      "2    Comm&Mgmt     No     75.0        Mkt&Fin  57.80      Placed  0.067568  \n",
      "3     Sci&Tech     No     66.0         Mkt&HR  59.43  Not Placed       NaN  \n",
      "4    Comm&Mgmt     No     96.8        Mkt&Fin  55.50      Placed  0.304054  \n",
      "..         ...    ...      ...            ...    ...         ...       ...  \n",
      "210  Comm&Mgmt     No     91.0        Mkt&Fin  74.49      Placed  0.270270  \n",
      "211   Sci&Tech     No     74.0        Mkt&Fin  53.62      Placed  0.101351  \n",
      "212  Comm&Mgmt    Yes     59.0        Mkt&Fin  69.72      Placed  0.128378  \n",
      "213  Comm&Mgmt     No     70.0         Mkt&HR  60.23      Placed  0.005405  \n",
      "214  Comm&Mgmt     No     89.0         Mkt&HR  60.22  Not Placed       NaN  \n",
      "\n",
      "[215 rows x 15 columns]>\n"
     ]
    }
   ],
   "source": [
    "print(df.info)"
   ]
  },
  {
   "cell_type": "code",
   "execution_count": 31,
   "id": "033863a4-63a2-4cb3-ae4f-96913d9cc6dc",
   "metadata": {},
   "outputs": [
    {
     "name": "stdout",
     "output_type": "stream",
     "text": [
      "First 5 rows:\n",
      "                        0         1          2           3          4\n",
      "sl_no                  1         2          3           4          5\n",
      "gender                 0         0          0           0          0\n",
      "ssc_p               67.0     79.33       65.0        56.0       85.8\n",
      "ssc_b                  1         0          0           0          0\n",
      "hsc_p               91.0     78.33       68.0        52.0       73.6\n",
      "hsc_b             Others    Others    Central     Central    Central\n",
      "hsc_s           Commerce   Science       Arts     Science   Commerce\n",
      "degree_p            58.0     77.48       64.0        52.0       73.3\n",
      "degree_t        Sci&Tech  Sci&Tech  Comm&Mgmt    Sci&Tech  Comm&Mgmt\n",
      "workex                No       Yes         No          No         No\n",
      "etest_p             55.0      86.5       75.0        66.0       96.8\n",
      "specialisation    Mkt&HR   Mkt&Fin    Mkt&Fin      Mkt&HR    Mkt&Fin\n",
      "mba_p               58.8     66.28       57.8       59.43       55.5\n",
      "status            Placed    Placed     Placed  Not Placed     Placed\n",
      "salary          0.094595       0.0   0.067568         NaN   0.304054\n"
     ]
    }
   ],
   "source": [
    "print('First 5 rows:\\n', df.head().T)"
   ]
  },
  {
   "cell_type": "code",
   "execution_count": 40,
   "id": "f4b419fd-71b4-41df-85b1-c2de675aa99d",
   "metadata": {},
   "outputs": [
    {
     "ename": "ModuleNotFoundError",
     "evalue": "No module named 'sklearn'",
     "output_type": "error",
     "traceback": [
      "\u001b[31m---------------------------------------------------------------------------\u001b[39m",
      "\u001b[31mModuleNotFoundError\u001b[39m                       Traceback (most recent call last)",
      "\u001b[36mCell\u001b[39m\u001b[36m \u001b[39m\u001b[32mIn[40]\u001b[39m\u001b[32m, line 1\u001b[39m\n\u001b[32m----> \u001b[39m\u001b[32m1\u001b[39m \u001b[38;5;28;01mfrom\u001b[39;00m\u001b[38;5;250m \u001b[39m\u001b[34;01msklearn\u001b[39;00m\u001b[34;01m.\u001b[39;00m\u001b[34;01mpreprocessing\u001b[39;00m\u001b[38;5;250m \u001b[39m\u001b[38;5;28;01mimport\u001b[39;00m MaxAbsScaler\n\u001b[32m      2\u001b[39m abs_scaler=MaxAbsScaler()\n\u001b[32m      3\u001b[39m df[[\u001b[33m'\u001b[39m\u001b[33mmba_p\u001b[39m\u001b[33m'\u001b[39m]]=abs_scaler.fit_transform(df[[\u001b[33m'\u001b[39m\u001b[33mmba_p\u001b[39m\u001b[33m'\u001b[39m]])\n",
      "\u001b[31mModuleNotFoundError\u001b[39m: No module named 'sklearn'"
     ]
    }
   ],
   "source": [
    " from sklearn.preprocessing import MaxAbsScaler\n",
    " abs_scaler=MaxAbsScaler()\n",
    " df[['mba_p']]=abs_scaler.fit_transform(df[['mba_p']])"
   ]
  },
  {
   "cell_type": "code",
   "execution_count": 45,
   "id": "e4480651-1161-47da-a6e0-fc3233a40300",
   "metadata": {},
   "outputs": [
    {
     "name": "stdout",
     "output_type": "stream",
     "text": [
      "Requirement already satisfied: scikit-learn in c:\\users\\asus\\appdata\\local\\programs\\python\\python312\\lib\\site-packages (1.6.1)\n",
      "Requirement already satisfied: numpy>=1.19.5 in c:\\users\\asus\\appdata\\local\\programs\\python\\python312\\lib\\site-packages (from scikit-learn) (2.2.5)\n",
      "Requirement already satisfied: scipy>=1.6.0 in c:\\users\\asus\\appdata\\local\\programs\\python\\python312\\lib\\site-packages (from scikit-learn) (1.15.2)\n",
      "Requirement already satisfied: joblib>=1.2.0 in c:\\users\\asus\\appdata\\local\\programs\\python\\python312\\lib\\site-packages (from scikit-learn) (1.4.2)\n",
      "Requirement already satisfied: threadpoolctl>=3.1.0 in c:\\users\\asus\\appdata\\local\\programs\\python\\python312\\lib\\site-packages (from scikit-learn) (3.6.0)\n"
     ]
    },
    {
     "name": "stderr",
     "output_type": "stream",
     "text": [
      "\n",
      "[notice] A new release of pip is available: 24.3.1 -> 25.1\n",
      "[notice] To update, run: python.exe -m pip install --upgrade pip\n"
     ]
    }
   ],
   "source": [
    "!pip install scikit-learn\n",
    "\n"
   ]
  },
  {
   "cell_type": "code",
   "execution_count": 47,
   "id": "b793ad4a-5480-4c3c-bb63-5dd48c844b48",
   "metadata": {},
   "outputs": [],
   "source": [
    " from sklearn.preprocessing import MaxAbsScaler\n",
    " abs_scaler=MaxAbsScaler()\n",
    " df[['mba_p']]=abs_scaler.fit_transform(df[['mba_p']])"
   ]
  },
  {
   "cell_type": "code",
   "execution_count": 48,
   "id": "32081aa5-0fab-4581-b5e7-8ee47e4b0113",
   "metadata": {},
   "outputs": [
    {
     "name": "stdout",
     "output_type": "stream",
     "text": [
      "First 5 rows:\n",
      "                        0         1          2           3          4\n",
      "sl_no                  1         2          3           4          5\n",
      "gender                 0         0          0           0          0\n",
      "ssc_p               67.0     79.33       65.0        56.0       85.8\n",
      "ssc_b                  1         0          0           0          0\n",
      "hsc_p               91.0     78.33       68.0        52.0       73.6\n",
      "hsc_b             Others    Others    Central     Central    Central\n",
      "hsc_s           Commerce   Science       Arts     Science   Commerce\n",
      "degree_p            58.0     77.48       64.0        52.0       73.3\n",
      "degree_t        Sci&Tech  Sci&Tech  Comm&Mgmt    Sci&Tech  Comm&Mgmt\n",
      "workex                No       Yes         No          No         No\n",
      "etest_p             55.0      86.5       75.0        66.0       96.8\n",
      "specialisation    Mkt&HR   Mkt&Fin    Mkt&Fin      Mkt&HR    Mkt&Fin\n",
      "mba_p           0.754911  0.850944   0.742072    0.762999   0.712543\n",
      "status            Placed    Placed     Placed  Not Placed     Placed\n",
      "salary          0.094595       0.0   0.067568         NaN   0.304054\n"
     ]
    }
   ],
   "source": [
    "print('First 5 rows:\\n', df.head().T)"
   ]
  }
 ],
 "metadata": {
  "kernelspec": {
   "display_name": "Python 3 (ipykernel)",
   "language": "python",
   "name": "python3"
  },
  "language_info": {
   "codemirror_mode": {
    "name": "ipython",
    "version": 3
   },
   "file_extension": ".py",
   "mimetype": "text/x-python",
   "name": "python",
   "nbconvert_exporter": "python",
   "pygments_lexer": "ipython3",
   "version": "3.12.0"
  }
 },
 "nbformat": 4,
 "nbformat_minor": 5
}
