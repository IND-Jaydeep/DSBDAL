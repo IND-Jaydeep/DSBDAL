{
 "cells": [
  {
   "cell_type": "code",
   "execution_count": 1,
   "id": "0a6487c5",
   "metadata": {},
   "outputs": [],
   "source": [
    "import pandas as pd\n",
    "import numpy as np\n",
    "import sklearn as sk"
   ]
  },
  {
   "cell_type": "code",
   "execution_count": null,
   "id": "05b9121e",
   "metadata": {},
   "outputs": [],
   "source": [
    "df = pd.read_csv(\"dataset/acdemic_data.csv\")\n",
    "\n",
    "# df = pd.read_csv('your_file.csv', na_values=['na', 'NA', 'N.A', 'N/A', ''])"
   ]
  },
  {
   "cell_type": "code",
   "execution_count": 10,
   "id": "118bf08b",
   "metadata": {},
   "outputs": [
    {
     "name": "stdout",
     "output_type": "stream",
     "text": [
      "\n",
      "Missing Values:\n",
      " Firstname    0\n",
      "Lastname     0\n",
      "Gender       0\n",
      "SPOS         0\n",
      "DSBDA        3\n",
      "WT           0\n",
      "DA           0\n",
      "dtype: int64\n"
     ]
    }
   ],
   "source": [
    "print(\"\\nMissing Values:\\n\", df.isnull().sum())"
   ]
  },
  {
   "cell_type": "code",
   "execution_count": 23,
   "id": "90a45fea",
   "metadata": {},
   "outputs": [
    {
     "name": "stdout",
     "output_type": "stream",
     "text": [
      "False\n"
     ]
    }
   ],
   "source": [
    "print(df.isnull().values.any())"
   ]
  },
  {
   "cell_type": "code",
   "execution_count": 17,
   "id": "92e5ba9b",
   "metadata": {},
   "outputs": [
    {
     "data": {
      "text/plain": [
       "Firstname    12\n",
       "Lastname     12\n",
       "Gender       12\n",
       "SPOS         12\n",
       "DSBDA        12\n",
       "WT           12\n",
       "DA           12\n",
       "dtype: int64"
      ]
     },
     "execution_count": 17,
     "metadata": {},
     "output_type": "execute_result"
    }
   ],
   "source": [
    "df.notnull().sum()\n"
   ]
  },
  {
   "cell_type": "code",
   "execution_count": null,
   "id": "eda82f62",
   "metadata": {},
   "outputs": [],
   "source": [
    "# Now force columns to numeric (safe)\n",
    "\n",
    "df['DSBDA'] = pd.to_numeric(df['DSBDA'], errors='coerce')"
   ]
  },
  {
   "cell_type": "code",
   "execution_count": 14,
   "id": "b5d19d68",
   "metadata": {},
   "outputs": [],
   "source": [
    "df['SPOS'] = df['SPOS'].fillna(df['SPOS'].mean())\n",
    "df['DSBDA'] = df['DSBDA'].fillna(df['DSBDA'].mean())\n",
    "df['WT'] = df['WT'].fillna(df['WT'].mean())"
   ]
  },
  {
   "cell_type": "code",
   "execution_count": null,
   "id": "9ac0e28e",
   "metadata": {},
   "outputs": [
    {
     "name": "stderr",
     "output_type": "stream",
     "text": [
      "C:\\Users\\yashk\\AppData\\Local\\Temp\\ipykernel_2452\\2861788664.py:2: FutureWarning: A value is trying to be set on a copy of a DataFrame or Series through chained assignment using an inplace method.\n",
      "The behavior will change in pandas 3.0. This inplace method will never work because the intermediate object on which we are setting values always behaves as a copy.\n",
      "\n",
      "For example, when doing 'df[col].method(value, inplace=True)', try using 'df.method({col: value}, inplace=True)' or df[col] = df[col].method(value) instead, to perform the operation inplace on the original object.\n",
      "\n",
      "\n",
      "  df['SPOS'].fillna(0, inplace=True)\n"
     ]
    }
   ],
   "source": [
    "#Replacing Null with a single constant value \n",
    "df['SPOS'].fillna(0, inplace=True)"
   ]
  },
  {
   "cell_type": "code",
   "execution_count": 30,
   "id": "a5c2cf03",
   "metadata": {},
   "outputs": [
    {
     "name": "stdout",
     "output_type": "stream",
     "text": [
      "0    85.0\n",
      "1    90.0\n",
      "2    99.7\n",
      "3    95.0\n",
      "4    99.7\n",
      "5    87.0\n",
      "6    81.0\n",
      "7    40.0\n",
      "8    10.0\n",
      "9     9.0\n",
      "Name: SPOS, dtype: float64\n"
     ]
    },
    {
     "name": "stderr",
     "output_type": "stream",
     "text": [
      "C:\\Users\\yashk\\AppData\\Local\\Temp\\ipykernel_2452\\1975764533.py:2: FutureWarning: A value is trying to be set on a copy of a DataFrame or Series through chained assignment using an inplace method.\n",
      "The behavior will change in pandas 3.0. This inplace method will never work because the intermediate object on which we are setting values always behaves as a copy.\n",
      "\n",
      "For example, when doing 'df[col].method(value, inplace=True)', try using 'df.method({col: value}, inplace=True)' or df[col] = df[col].method(value) instead, to perform the operation inplace on the original object.\n",
      "\n",
      "\n",
      "  df['SPOS'].fillna(method='bfill', inplace=True)\n",
      "C:\\Users\\yashk\\AppData\\Local\\Temp\\ipykernel_2452\\1975764533.py:2: FutureWarning: Series.fillna with 'method' is deprecated and will raise in a future version. Use obj.ffill() or obj.bfill() instead.\n",
      "  df['SPOS'].fillna(method='bfill', inplace=True)\n"
     ]
    }
   ],
   "source": [
    "# We use method = 'bfill’ for taking values from the next row. \n",
    "df['SPOS'].fillna(method='bfill', inplace=True) \n",
    "print(df['SPOS'].head(10))"
   ]
  },
  {
   "cell_type": "code",
   "execution_count": 31,
   "id": "99d7dbfc",
   "metadata": {},
   "outputs": [
    {
     "name": "stdout",
     "output_type": "stream",
     "text": [
      "0    88.000\n",
      "1    90.000\n",
      "2    87.375\n",
      "3    86.000\n",
      "4    84.000\n",
      "5    87.375\n",
      "6    80.000\n",
      "7    88.000\n",
      "8    96.000\n",
      "9    87.375\n",
      "Name: DSBDA, dtype: float64\n"
     ]
    },
    {
     "name": "stderr",
     "output_type": "stream",
     "text": [
      "C:\\Users\\yashk\\AppData\\Local\\Temp\\ipykernel_2452\\2720007090.py:4: FutureWarning: A value is trying to be set on a copy of a DataFrame or Series through chained assignment using an inplace method.\n",
      "The behavior will change in pandas 3.0. This inplace method will never work because the intermediate object on which we are setting values always behaves as a copy.\n",
      "\n",
      "For example, when doing 'df[col].method(value, inplace=True)', try using 'df.method({col: value}, inplace=True)' or df[col] = df[col].method(value) instead, to perform the operation inplace on the original object.\n",
      "\n",
      "\n",
      "  df['DSBDA'].fillna(method='pad', inplace=True)\n",
      "C:\\Users\\yashk\\AppData\\Local\\Temp\\ipykernel_2452\\2720007090.py:4: FutureWarning: Series.fillna with 'method' is deprecated and will raise in a future version. Use obj.ffill() or obj.bfill() instead.\n",
      "  df['DSBDA'].fillna(method='pad', inplace=True)\n"
     ]
    }
   ],
   "source": [
    "#Replacing Null with the value from the previous row or the next row \n",
    "#method = 'pad’ for taking values from the previous row \n",
    "\n",
    "df['DSBDA'].fillna(method='pad', inplace=True)\n",
    "print(df['DSBDA'].head(10))"
   ]
  },
  {
   "cell_type": "code",
   "execution_count": 15,
   "id": "6196b39d",
   "metadata": {},
   "outputs": [
    {
     "name": "stdout",
     "output_type": "stream",
     "text": [
      "\n",
      "Missing Values:\n",
      " Firstname    0\n",
      "Lastname     0\n",
      "Gender       0\n",
      "SPOS         0\n",
      "DSBDA        0\n",
      "WT           0\n",
      "DA           0\n",
      "dtype: int64\n"
     ]
    }
   ],
   "source": [
    "print(\"\\nMissing Values:\\n\", df.isnull().sum())"
   ]
  },
  {
   "cell_type": "code",
   "execution_count": 24,
   "id": "1b70e929",
   "metadata": {},
   "outputs": [],
   "source": [
    "# How to remove rows with missing values\n",
    "\n",
    "# drop all rows with Null values \n",
    "df.dropna(axis=0,inplace=True)"
   ]
  },
  {
   "cell_type": "code",
   "execution_count": 25,
   "id": "44bfbb24",
   "metadata": {},
   "outputs": [],
   "source": [
    "# drop all rows with atleast one null\n",
    "new_df = df.dropna(axis = 0, how ='any')"
   ]
  },
  {
   "cell_type": "code",
   "execution_count": 26,
   "id": "2615290d",
   "metadata": {},
   "outputs": [],
   "source": [
    "# drop all rows with all null\n",
    "new_df = df.dropna(axis = 0, how ='all')"
   ]
  },
  {
   "cell_type": "code",
   "execution_count": 27,
   "id": "342af71b",
   "metadata": {},
   "outputs": [],
   "source": [
    "# drop all columns with atleast one Null\n",
    "new_df = df.dropna(axis = 1, how ='any')"
   ]
  },
  {
   "cell_type": "code",
   "execution_count": 28,
   "id": "d78ff3ea",
   "metadata": {},
   "outputs": [],
   "source": [
    "# drop all columns with all Null \n",
    "new_df = df.dropna(axis = 1, how ='all')"
   ]
  },
  {
   "cell_type": "code",
   "execution_count": 18,
   "id": "9ec51a14",
   "metadata": {},
   "outputs": [
    {
     "data": {
      "text/html": [
       "<div>\n",
       "<style scoped>\n",
       "    .dataframe tbody tr th:only-of-type {\n",
       "        vertical-align: middle;\n",
       "    }\n",
       "\n",
       "    .dataframe tbody tr th {\n",
       "        vertical-align: top;\n",
       "    }\n",
       "\n",
       "    .dataframe thead th {\n",
       "        text-align: right;\n",
       "    }\n",
       "</style>\n",
       "<table border=\"1\" class=\"dataframe\">\n",
       "  <thead>\n",
       "    <tr style=\"text-align: right;\">\n",
       "      <th></th>\n",
       "      <th>Firstname</th>\n",
       "      <th>Lastname</th>\n",
       "      <th>Gender</th>\n",
       "      <th>SPOS</th>\n",
       "      <th>DSBDA</th>\n",
       "      <th>WT</th>\n",
       "      <th>DA</th>\n",
       "    </tr>\n",
       "  </thead>\n",
       "  <tbody>\n",
       "    <tr>\n",
       "      <th>0</th>\n",
       "      <td>LA</td>\n",
       "      <td>Roy</td>\n",
       "      <td>M</td>\n",
       "      <td>85.0</td>\n",
       "      <td>88.000</td>\n",
       "      <td>90.000000</td>\n",
       "      <td>92</td>\n",
       "    </tr>\n",
       "    <tr>\n",
       "      <th>1</th>\n",
       "      <td>SA</td>\n",
       "      <td>Dixit</td>\n",
       "      <td>F</td>\n",
       "      <td>90.0</td>\n",
       "      <td>90.000</td>\n",
       "      <td>94.000000</td>\n",
       "      <td>95</td>\n",
       "    </tr>\n",
       "    <tr>\n",
       "      <th>2</th>\n",
       "      <td>AB</td>\n",
       "      <td>Danial</td>\n",
       "      <td>M</td>\n",
       "      <td>99.7</td>\n",
       "      <td>87.375</td>\n",
       "      <td>100.000000</td>\n",
       "      <td>80</td>\n",
       "    </tr>\n",
       "    <tr>\n",
       "      <th>3</th>\n",
       "      <td>DA</td>\n",
       "      <td>Kapoor</td>\n",
       "      <td>M</td>\n",
       "      <td>95.0</td>\n",
       "      <td>86.000</td>\n",
       "      <td>500.000000</td>\n",
       "      <td>82</td>\n",
       "    </tr>\n",
       "    <tr>\n",
       "      <th>4</th>\n",
       "      <td>SA</td>\n",
       "      <td>Jha</td>\n",
       "      <td>F</td>\n",
       "      <td>99.7</td>\n",
       "      <td>84.000</td>\n",
       "      <td>98.000000</td>\n",
       "      <td>84</td>\n",
       "    </tr>\n",
       "    <tr>\n",
       "      <th>5</th>\n",
       "      <td>WS</td>\n",
       "      <td>Thakur</td>\n",
       "      <td>F</td>\n",
       "      <td>87.0</td>\n",
       "      <td>87.375</td>\n",
       "      <td>97.000000</td>\n",
       "      <td>86</td>\n",
       "    </tr>\n",
       "    <tr>\n",
       "      <th>6</th>\n",
       "      <td>DY</td>\n",
       "      <td>Kapoor</td>\n",
       "      <td>M</td>\n",
       "      <td>81.0</td>\n",
       "      <td>80.000</td>\n",
       "      <td>96.000000</td>\n",
       "      <td>89</td>\n",
       "    </tr>\n",
       "    <tr>\n",
       "      <th>7</th>\n",
       "      <td>JK</td>\n",
       "      <td>Khanna</td>\n",
       "      <td>F</td>\n",
       "      <td>40.0</td>\n",
       "      <td>88.000</td>\n",
       "      <td>95.000000</td>\n",
       "      <td>87</td>\n",
       "    </tr>\n",
       "    <tr>\n",
       "      <th>8</th>\n",
       "      <td>RT</td>\n",
       "      <td>Pardesi</td>\n",
       "      <td>M</td>\n",
       "      <td>10.0</td>\n",
       "      <td>96.000</td>\n",
       "      <td>94.000000</td>\n",
       "      <td>88</td>\n",
       "    </tr>\n",
       "    <tr>\n",
       "      <th>9</th>\n",
       "      <td>UV</td>\n",
       "      <td>Pardesi</td>\n",
       "      <td>M</td>\n",
       "      <td>9.0</td>\n",
       "      <td>87.375</td>\n",
       "      <td>93.000000</td>\n",
       "      <td>96</td>\n",
       "    </tr>\n",
       "    <tr>\n",
       "      <th>10</th>\n",
       "      <td>MN</td>\n",
       "      <td>Desai</td>\n",
       "      <td>F</td>\n",
       "      <td>200.0</td>\n",
       "      <td>87.000</td>\n",
       "      <td>131.363636</td>\n",
       "      <td>N.A</td>\n",
       "    </tr>\n",
       "    <tr>\n",
       "      <th>11</th>\n",
       "      <td>BC</td>\n",
       "      <td>Patel</td>\n",
       "      <td>F</td>\n",
       "      <td>300.0</td>\n",
       "      <td>87.375</td>\n",
       "      <td>88.000000</td>\n",
       "      <td>300</td>\n",
       "    </tr>\n",
       "  </tbody>\n",
       "</table>\n",
       "</div>"
      ],
      "text/plain": [
       "   Firstname Lastname Gender   SPOS   DSBDA          WT   DA\n",
       "0         LA      Roy      M   85.0  88.000   90.000000   92\n",
       "1         SA    Dixit      F   90.0  90.000   94.000000   95\n",
       "2         AB   Danial      M   99.7  87.375  100.000000   80\n",
       "3         DA   Kapoor      M   95.0  86.000  500.000000   82\n",
       "4         SA      Jha      F   99.7  84.000   98.000000   84\n",
       "5         WS   Thakur      F   87.0  87.375   97.000000   86\n",
       "6         DY   Kapoor      M   81.0  80.000   96.000000   89\n",
       "7         JK   Khanna      F   40.0  88.000   95.000000   87\n",
       "8         RT  Pardesi      M   10.0  96.000   94.000000   88\n",
       "9         UV  Pardesi      M    9.0  87.375   93.000000   96\n",
       "10        MN    Desai      F  200.0  87.000  131.363636  N.A\n",
       "11        BC    Patel      F  300.0  87.375   88.000000  300"
      ]
     },
     "execution_count": 18,
     "metadata": {},
     "output_type": "execute_result"
    }
   ],
   "source": [
    "df.dropna()   # drops any row with at least 1 NaN"
   ]
  },
  {
   "cell_type": "code",
   "execution_count": 21,
   "id": "ffe37f44",
   "metadata": {},
   "outputs": [
    {
     "data": {
      "text/html": [
       "<div>\n",
       "<style scoped>\n",
       "    .dataframe tbody tr th:only-of-type {\n",
       "        vertical-align: middle;\n",
       "    }\n",
       "\n",
       "    .dataframe tbody tr th {\n",
       "        vertical-align: top;\n",
       "    }\n",
       "\n",
       "    .dataframe thead th {\n",
       "        text-align: right;\n",
       "    }\n",
       "</style>\n",
       "<table border=\"1\" class=\"dataframe\">\n",
       "  <thead>\n",
       "    <tr style=\"text-align: right;\">\n",
       "      <th></th>\n",
       "      <th>Firstname</th>\n",
       "      <th>Lastname</th>\n",
       "      <th>Gender</th>\n",
       "      <th>SPOS</th>\n",
       "      <th>DSBDA</th>\n",
       "      <th>WT</th>\n",
       "      <th>DA</th>\n",
       "    </tr>\n",
       "  </thead>\n",
       "  <tbody>\n",
       "    <tr>\n",
       "      <th>0</th>\n",
       "      <td>LA</td>\n",
       "      <td>Roy</td>\n",
       "      <td>M</td>\n",
       "      <td>85.0</td>\n",
       "      <td>88.000</td>\n",
       "      <td>90.000000</td>\n",
       "      <td>92</td>\n",
       "    </tr>\n",
       "    <tr>\n",
       "      <th>1</th>\n",
       "      <td>SA</td>\n",
       "      <td>Dixit</td>\n",
       "      <td>F</td>\n",
       "      <td>90.0</td>\n",
       "      <td>90.000</td>\n",
       "      <td>94.000000</td>\n",
       "      <td>95</td>\n",
       "    </tr>\n",
       "    <tr>\n",
       "      <th>2</th>\n",
       "      <td>AB</td>\n",
       "      <td>Danial</td>\n",
       "      <td>M</td>\n",
       "      <td>99.7</td>\n",
       "      <td>87.375</td>\n",
       "      <td>100.000000</td>\n",
       "      <td>80</td>\n",
       "    </tr>\n",
       "    <tr>\n",
       "      <th>3</th>\n",
       "      <td>DA</td>\n",
       "      <td>Kapoor</td>\n",
       "      <td>M</td>\n",
       "      <td>95.0</td>\n",
       "      <td>86.000</td>\n",
       "      <td>500.000000</td>\n",
       "      <td>82</td>\n",
       "    </tr>\n",
       "    <tr>\n",
       "      <th>4</th>\n",
       "      <td>SA</td>\n",
       "      <td>Jha</td>\n",
       "      <td>F</td>\n",
       "      <td>99.7</td>\n",
       "      <td>84.000</td>\n",
       "      <td>98.000000</td>\n",
       "      <td>84</td>\n",
       "    </tr>\n",
       "    <tr>\n",
       "      <th>5</th>\n",
       "      <td>WS</td>\n",
       "      <td>Thakur</td>\n",
       "      <td>F</td>\n",
       "      <td>87.0</td>\n",
       "      <td>87.375</td>\n",
       "      <td>97.000000</td>\n",
       "      <td>86</td>\n",
       "    </tr>\n",
       "    <tr>\n",
       "      <th>6</th>\n",
       "      <td>DY</td>\n",
       "      <td>Kapoor</td>\n",
       "      <td>M</td>\n",
       "      <td>81.0</td>\n",
       "      <td>80.000</td>\n",
       "      <td>96.000000</td>\n",
       "      <td>89</td>\n",
       "    </tr>\n",
       "    <tr>\n",
       "      <th>7</th>\n",
       "      <td>JK</td>\n",
       "      <td>Khanna</td>\n",
       "      <td>F</td>\n",
       "      <td>40.0</td>\n",
       "      <td>88.000</td>\n",
       "      <td>95.000000</td>\n",
       "      <td>87</td>\n",
       "    </tr>\n",
       "    <tr>\n",
       "      <th>8</th>\n",
       "      <td>RT</td>\n",
       "      <td>Pardesi</td>\n",
       "      <td>M</td>\n",
       "      <td>10.0</td>\n",
       "      <td>96.000</td>\n",
       "      <td>94.000000</td>\n",
       "      <td>88</td>\n",
       "    </tr>\n",
       "    <tr>\n",
       "      <th>9</th>\n",
       "      <td>UV</td>\n",
       "      <td>Pardesi</td>\n",
       "      <td>M</td>\n",
       "      <td>9.0</td>\n",
       "      <td>87.375</td>\n",
       "      <td>93.000000</td>\n",
       "      <td>96</td>\n",
       "    </tr>\n",
       "    <tr>\n",
       "      <th>10</th>\n",
       "      <td>MN</td>\n",
       "      <td>Desai</td>\n",
       "      <td>F</td>\n",
       "      <td>200.0</td>\n",
       "      <td>87.000</td>\n",
       "      <td>131.363636</td>\n",
       "      <td>N.A</td>\n",
       "    </tr>\n",
       "    <tr>\n",
       "      <th>11</th>\n",
       "      <td>BC</td>\n",
       "      <td>Patel</td>\n",
       "      <td>F</td>\n",
       "      <td>300.0</td>\n",
       "      <td>87.375</td>\n",
       "      <td>88.000000</td>\n",
       "      <td>300</td>\n",
       "    </tr>\n",
       "  </tbody>\n",
       "</table>\n",
       "</div>"
      ],
      "text/plain": [
       "   Firstname Lastname Gender   SPOS   DSBDA          WT   DA\n",
       "0         LA      Roy      M   85.0  88.000   90.000000   92\n",
       "1         SA    Dixit      F   90.0  90.000   94.000000   95\n",
       "2         AB   Danial      M   99.7  87.375  100.000000   80\n",
       "3         DA   Kapoor      M   95.0  86.000  500.000000   82\n",
       "4         SA      Jha      F   99.7  84.000   98.000000   84\n",
       "5         WS   Thakur      F   87.0  87.375   97.000000   86\n",
       "6         DY   Kapoor      M   81.0  80.000   96.000000   89\n",
       "7         JK   Khanna      F   40.0  88.000   95.000000   87\n",
       "8         RT  Pardesi      M   10.0  96.000   94.000000   88\n",
       "9         UV  Pardesi      M    9.0  87.375   93.000000   96\n",
       "10        MN    Desai      F  200.0  87.000  131.363636  N.A\n",
       "11        BC    Patel      F  300.0  87.375   88.000000  300"
      ]
     },
     "execution_count": 21,
     "metadata": {},
     "output_type": "execute_result"
    }
   ],
   "source": [
    "df.dropna(axis=1)"
   ]
  },
  {
   "cell_type": "markdown",
   "id": "110d6aa1",
   "metadata": {},
   "source": [
    "The inplace=True parameter in pandas is used to modify the original DataFrame directly, rather than creating and returning a new modified DataFrame."
   ]
  },
  {
   "cell_type": "code",
   "execution_count": null,
   "id": "2ea3d7a8",
   "metadata": {},
   "outputs": [],
   "source": []
  },
  {
   "cell_type": "code",
   "execution_count": null,
   "id": "fa7aa05f",
   "metadata": {},
   "outputs": [
    {
     "data": {
      "text/html": [
       "<div>\n",
       "<style scoped>\n",
       "    .dataframe tbody tr th:only-of-type {\n",
       "        vertical-align: middle;\n",
       "    }\n",
       "\n",
       "    .dataframe tbody tr th {\n",
       "        vertical-align: top;\n",
       "    }\n",
       "\n",
       "    .dataframe thead th {\n",
       "        text-align: right;\n",
       "    }\n",
       "</style>\n",
       "<table border=\"1\" class=\"dataframe\">\n",
       "  <thead>\n",
       "    <tr style=\"text-align: right;\">\n",
       "      <th></th>\n",
       "      <th>Firstname</th>\n",
       "      <th>Lastname</th>\n",
       "      <th>Gender</th>\n",
       "      <th>SPOS</th>\n",
       "      <th>DSBDA</th>\n",
       "      <th>WT</th>\n",
       "      <th>DA</th>\n",
       "    </tr>\n",
       "  </thead>\n",
       "  <tbody>\n",
       "    <tr>\n",
       "      <th>0</th>\n",
       "      <td>LA</td>\n",
       "      <td>Roy</td>\n",
       "      <td>M</td>\n",
       "      <td>85.0</td>\n",
       "      <td>88.000</td>\n",
       "      <td>90.000000</td>\n",
       "      <td>92</td>\n",
       "    </tr>\n",
       "    <tr>\n",
       "      <th>1</th>\n",
       "      <td>SA</td>\n",
       "      <td>Dixit</td>\n",
       "      <td>F</td>\n",
       "      <td>90.0</td>\n",
       "      <td>90.000</td>\n",
       "      <td>94.000000</td>\n",
       "      <td>95</td>\n",
       "    </tr>\n",
       "    <tr>\n",
       "      <th>2</th>\n",
       "      <td>AB</td>\n",
       "      <td>Danial</td>\n",
       "      <td>M</td>\n",
       "      <td>99.7</td>\n",
       "      <td>87.375</td>\n",
       "      <td>100.000000</td>\n",
       "      <td>80</td>\n",
       "    </tr>\n",
       "    <tr>\n",
       "      <th>3</th>\n",
       "      <td>DA</td>\n",
       "      <td>Kapoor</td>\n",
       "      <td>M</td>\n",
       "      <td>95.0</td>\n",
       "      <td>86.000</td>\n",
       "      <td>500.000000</td>\n",
       "      <td>82</td>\n",
       "    </tr>\n",
       "    <tr>\n",
       "      <th>4</th>\n",
       "      <td>SA</td>\n",
       "      <td>Jha</td>\n",
       "      <td>F</td>\n",
       "      <td>99.7</td>\n",
       "      <td>84.000</td>\n",
       "      <td>98.000000</td>\n",
       "      <td>84</td>\n",
       "    </tr>\n",
       "    <tr>\n",
       "      <th>5</th>\n",
       "      <td>WS</td>\n",
       "      <td>Thakur</td>\n",
       "      <td>F</td>\n",
       "      <td>87.0</td>\n",
       "      <td>87.375</td>\n",
       "      <td>97.000000</td>\n",
       "      <td>86</td>\n",
       "    </tr>\n",
       "    <tr>\n",
       "      <th>6</th>\n",
       "      <td>DY</td>\n",
       "      <td>Kapoor</td>\n",
       "      <td>M</td>\n",
       "      <td>81.0</td>\n",
       "      <td>80.000</td>\n",
       "      <td>96.000000</td>\n",
       "      <td>89</td>\n",
       "    </tr>\n",
       "    <tr>\n",
       "      <th>7</th>\n",
       "      <td>JK</td>\n",
       "      <td>Khanna</td>\n",
       "      <td>F</td>\n",
       "      <td>40.0</td>\n",
       "      <td>88.000</td>\n",
       "      <td>95.000000</td>\n",
       "      <td>87</td>\n",
       "    </tr>\n",
       "    <tr>\n",
       "      <th>8</th>\n",
       "      <td>RT</td>\n",
       "      <td>Pardesi</td>\n",
       "      <td>M</td>\n",
       "      <td>10.0</td>\n",
       "      <td>96.000</td>\n",
       "      <td>94.000000</td>\n",
       "      <td>88</td>\n",
       "    </tr>\n",
       "    <tr>\n",
       "      <th>9</th>\n",
       "      <td>UV</td>\n",
       "      <td>Pardesi</td>\n",
       "      <td>M</td>\n",
       "      <td>9.0</td>\n",
       "      <td>87.375</td>\n",
       "      <td>93.000000</td>\n",
       "      <td>96</td>\n",
       "    </tr>\n",
       "    <tr>\n",
       "      <th>10</th>\n",
       "      <td>MN</td>\n",
       "      <td>Desai</td>\n",
       "      <td>F</td>\n",
       "      <td>200.0</td>\n",
       "      <td>87.000</td>\n",
       "      <td>131.363636</td>\n",
       "      <td>N.A</td>\n",
       "    </tr>\n",
       "    <tr>\n",
       "      <th>11</th>\n",
       "      <td>BC</td>\n",
       "      <td>Patel</td>\n",
       "      <td>F</td>\n",
       "      <td>300.0</td>\n",
       "      <td>87.375</td>\n",
       "      <td>88.000000</td>\n",
       "      <td>300</td>\n",
       "    </tr>\n",
       "  </tbody>\n",
       "</table>\n",
       "</div>"
      ],
      "text/plain": [
       "   Firstname Lastname Gender   SPOS   DSBDA          WT   DA\n",
       "0         LA      Roy      M   85.0  88.000   90.000000   92\n",
       "1         SA    Dixit      F   90.0  90.000   94.000000   95\n",
       "2         AB   Danial      M   99.7  87.375  100.000000   80\n",
       "3         DA   Kapoor      M   95.0  86.000  500.000000   82\n",
       "4         SA      Jha      F   99.7  84.000   98.000000   84\n",
       "5         WS   Thakur      F   87.0  87.375   97.000000   86\n",
       "6         DY   Kapoor      M   81.0  80.000   96.000000   89\n",
       "7         JK   Khanna      F   40.0  88.000   95.000000   87\n",
       "8         RT  Pardesi      M   10.0  96.000   94.000000   88\n",
       "9         UV  Pardesi      M    9.0  87.375   93.000000   96\n",
       "10        MN    Desai      F  200.0  87.000  131.363636  N.A\n",
       "11        BC    Patel      F  300.0  87.375   88.000000  300"
      ]
     },
     "execution_count": 22,
     "metadata": {},
     "output_type": "execute_result"
    }
   ],
   "source": [
    "df.replace('na', np.nan)  # replace 'na' text with real NaN\n",
    "df.replace(0, 100)        # replace 0 with 100\n",
    "\n",
    "df.replace([\"na\", \"Na\", \"NA\", \"n/a\", \"N/A\", \"\", \"missing\"], pd.NA, inplace=True)\n"
   ]
  },
  {
   "cell_type": "markdown",
   "id": "7445dc43",
   "metadata": {},
   "source": [
    "Outliers"
   ]
  },
  {
   "cell_type": "code",
   "execution_count": 35,
   "id": "0758309d",
   "metadata": {},
   "outputs": [
    {
     "data": {
      "text/plain": [
       "{'whiskers': [<matplotlib.lines.Line2D at 0x1f1e119b290>,\n",
       "  <matplotlib.lines.Line2D at 0x1f1e119bc50>],\n",
       " 'caps': [<matplotlib.lines.Line2D at 0x1f1e11a4650>,\n",
       "  <matplotlib.lines.Line2D at 0x1f1e11a4fd0>],\n",
       " 'boxes': [<matplotlib.lines.Line2D at 0x1f1e119a9d0>],\n",
       " 'medians': [<matplotlib.lines.Line2D at 0x1f1e11a5890>],\n",
       " 'fliers': [<matplotlib.lines.Line2D at 0x1f1e11a60d0>],\n",
       " 'means': []}"
      ]
     },
     "execution_count": 35,
     "metadata": {},
     "output_type": "execute_result"
    },
    {
     "data": {
      "image/png": "[encoded data removed]",
      "text/plain": [
       "<Figure size 640x480 with 1 Axes>"
      ]
     },
     "metadata": {},
     "output_type": "display_data"
    }
   ],
   "source": [
    "import matplotlib.pyplot as plt\n",
    "import seaborn as sns\n",
    "\n",
    "# Plot boxplot\n",
    "plt.boxplot(x=df['SPOS'])\n"
   ]
  },
  {
   "cell_type": "code",
   "execution_count": 34,
   "id": "0da6ace2",
   "metadata": {},
   "outputs": [
    {
     "data": {
      "text/plain": [
       "{'whiskers': [<matplotlib.lines.Line2D at 0x1f1df103390>,\n",
       "  <matplotlib.lines.Line2D at 0x1f1e1130490>],\n",
       " 'caps': [<matplotlib.lines.Line2D at 0x1f1e1130d90>,\n",
       "  <matplotlib.lines.Line2D at 0x1f1e11316d0>],\n",
       " 'boxes': [<matplotlib.lines.Line2D at 0x1f1df120410>],\n",
       " 'medians': [<matplotlib.lines.Line2D at 0x1f1e1131f50>],\n",
       " 'fliers': [<matplotlib.lines.Line2D at 0x1f1e1132750>],\n",
       " 'means': []}"
      ]
     },
     "execution_count": 34,
     "metadata": {},
     "output_type": "execute_result"
    },
    {
     "data": {
      "image/png": "[encoded data removed]",
      "text/plain": [
       "<Figure size 640x480 with 1 Axes>"
      ]
     },
     "metadata": {},
     "output_type": "display_data"
    }
   ],
   "source": [
    "plt.boxplot(x=df['DSBDA'])"
   ]
  },
  {
   "cell_type": "code",
   "execution_count": 36,
   "id": "8134357f",
   "metadata": {},
   "outputs": [
    {
     "data": {
      "image/png": "[encoded data removed]",
      "text/plain": [
       "<Figure size 640x480 with 1 Axes>"
      ]
     },
     "metadata": {},
     "output_type": "display_data"
    }
   ],
   "source": [
    "plt.scatter(df['DSBDA'], df['SPOS'])\n",
    "plt.xlabel('DSBDA (cm)')\n",
    "plt.ylabel('SPOS (kg)')\n",
    "plt.title('DSBDA vs SPOS Scatterplot')\n",
    "plt.show()"
   ]
  }
 ],
 "metadata": {
  "kernelspec": {
   "display_name": "base",
   "language": "python",
   "name": "python3"
  },
  "language_info": {
   "codemirror_mode": {
    "name": "ipython",
    "version": 3
   },
   "file_extension": ".py",
   "mimetype": "text/x-python",
   "name": "python",
   "nbconvert_exporter": "python",
   "pygments_lexer": "ipython3",
   "version": "3.11.7"
  }
 },
 "nbformat": 4,
 "nbformat_minor": 5
}
